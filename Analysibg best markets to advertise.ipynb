{
 "cells": [
  {
   "cell_type": "markdown",
   "metadata": {},
   "source": [
    "# Finding the Two Best Markets to Advertise in an E-learning Product"
   ]
  },
  {
   "cell_type": "markdown",
   "metadata": {},
   "source": [
    "In this project, we'll aim to find the two best markets to advertise our product in — we're working for an e-learning company that offers courses on programming. Most of our courses are on web and mobile development, but we also cover many other domains, like data science, game development, etc.\n",
    "\n"
   ]
  },
  {
   "cell_type": "markdown",
   "metadata": {},
   "source": [
    "Understanding the Data¶\n",
    "To avoid spending money on organizing a survey, we'll first try to make use of existing data to determine whether we can reach any reliable result.\n",
    "\n",
    "One good candidate for our purpose is freeCodeCamp's 2017 New Coder Survey. freeCodeCamp is a free e-learning platform that offers courses on web development. Because they run a popular Medium publication (over 400,000 followers), their survey attracted new coders with varying interests (not only web development), which is ideal for the purpose of our analysis.\n",
    "\n",
    "The survey data is publicly available in this GitHub repository. Below, we'll do a quick exploration of the 2017-fCC-New-Coders-Survey-Data.csv file stored in the clean-data folder of the repository we just mentioned. We'll read in the file using the direct link here."
   ]
  },
  {
   "cell_type": "code",
   "execution_count": 3,
   "metadata": {
    "collapsed": false
   },
   "outputs": [
    {
     "name": "stdout",
     "output_type": "stream",
     "text": [
      "<class 'pandas.core.frame.DataFrame'>\n",
      "RangeIndex: 18175 entries, 0 to 18174\n",
      "Columns: 136 entries, Age to YouTubeTheNewBoston\n",
      "dtypes: float64(105), object(31)\n",
      "memory usage: 18.9+ MB\n",
      "None\n",
      "    Age  AttendedBootcamp  BootcampFinish  BootcampLoanYesNo BootcampName  \\\n",
      "0  27.0               0.0             NaN                NaN          NaN   \n",
      "1  34.0               0.0             NaN                NaN          NaN   \n",
      "2  21.0               0.0             NaN                NaN          NaN   \n",
      "3  26.0               0.0             NaN                NaN          NaN   \n",
      "4  20.0               0.0             NaN                NaN          NaN   \n",
      "\n",
      "   BootcampRecommend  ChildrenNumber                 CityPopulation  \\\n",
      "0                NaN             NaN            more than 1 million   \n",
      "1                NaN             NaN              less than 100,000   \n",
      "2                NaN             NaN            more than 1 million   \n",
      "3                NaN             NaN  between 100,000 and 1 million   \n",
      "4                NaN             NaN  between 100,000 and 1 million   \n",
      "\n",
      "   CodeEventConferences  CodeEventDjangoGirls  CodeEventFCC  CodeEventGameJam  \\\n",
      "0                   NaN                   NaN           NaN               NaN   \n",
      "1                   NaN                   NaN           NaN               NaN   \n",
      "2                   NaN                   NaN           NaN               NaN   \n",
      "3                   NaN                   NaN           NaN               NaN   \n",
      "4                   NaN                   NaN           NaN               NaN   \n",
      "\n",
      "   CodeEventGirlDev  CodeEventHackathons  CodeEventMeetup  \\\n",
      "0               NaN                  NaN              NaN   \n",
      "1               NaN                  NaN              NaN   \n",
      "2               NaN                  1.0              NaN   \n",
      "3               NaN                  NaN              NaN   \n",
      "4               NaN                  NaN              NaN   \n",
      "\n",
      "   CodeEventNodeSchool  CodeEventNone CodeEventOther  CodeEventRailsBridge  \\\n",
      "0                  NaN            NaN            NaN                   NaN   \n",
      "1                  NaN            NaN            NaN                   NaN   \n",
      "2                  1.0            NaN            NaN                   NaN   \n",
      "3                  NaN            NaN            NaN                   NaN   \n",
      "4                  NaN            NaN            NaN                   NaN   \n",
      "\n",
      "   CodeEventRailsGirls  CodeEventStartUpWknd  CodeEventWkdBootcamps  \\\n",
      "0                  NaN                   NaN                    NaN   \n",
      "1                  NaN                   NaN                    NaN   \n",
      "2                  NaN                   NaN                    NaN   \n",
      "3                  NaN                   NaN                    NaN   \n",
      "4                  NaN                   NaN                    NaN   \n",
      "\n",
      "   CodeEventWomenCode  CodeEventWorkshops       CommuteTime  \\\n",
      "0                 NaN                 NaN  15 to 29 minutes   \n",
      "1                 NaN                 NaN               NaN   \n",
      "2                 NaN                 NaN  15 to 29 minutes   \n",
      "3                 NaN                 NaN  I work from home   \n",
      "4                 NaN                 NaN               NaN   \n",
      "\n",
      "             CountryCitizen               CountryLive  \\\n",
      "0                    Canada                    Canada   \n",
      "1  United States of America  United States of America   \n",
      "2  United States of America  United States of America   \n",
      "3                    Brazil                    Brazil   \n",
      "4                  Portugal                  Portugal   \n",
      "\n",
      "               EmploymentField EmploymentFieldOther  \\\n",
      "0  software development and IT                  NaN   \n",
      "1                          NaN                  NaN   \n",
      "2  software development and IT                  NaN   \n",
      "3  software development and IT                  NaN   \n",
      "4                          NaN                  NaN   \n",
      "\n",
      "                   EmploymentStatus EmploymentStatusOther  ExpectedEarning  \\\n",
      "0                Employed for wages                   NaN              NaN   \n",
      "1  Not working but looking for work                   NaN          35000.0   \n",
      "2                Employed for wages                   NaN          70000.0   \n",
      "3                Employed for wages                   NaN          40000.0   \n",
      "4  Not working but looking for work                   NaN         140000.0   \n",
      "\n",
      "   FinanciallySupporting  FirstDevJob  Gender GenderOther  HasChildren  \\\n",
      "0                    NaN          NaN  female         NaN          NaN   \n",
      "1                    NaN          NaN    male         NaN          NaN   \n",
      "2                    NaN          NaN    male         NaN          NaN   \n",
      "3                    0.0          NaN    male         NaN          0.0   \n",
      "4                    NaN          NaN  female         NaN          NaN   \n",
      "\n",
      "   HasDebt  HasFinancialDependents  HasHighSpdInternet  HasHomeMortgage  \\\n",
      "0      1.0                     0.0                 1.0              0.0   \n",
      "1      1.0                     0.0                 1.0              0.0   \n",
      "2      0.0                     0.0                 1.0              NaN   \n",
      "3      1.0                     1.0                 1.0              1.0   \n",
      "4      0.0                     0.0                 1.0              NaN   \n",
      "\n",
      "   HasServedInMilitary  HasStudentDebt  HomeMortgageOwe  HoursLearning  \\\n",
      "0                  0.0             0.0              NaN           15.0   \n",
      "1                  0.0             1.0              NaN           10.0   \n",
      "2                  0.0             NaN              NaN           25.0   \n",
      "3                  0.0             0.0          40000.0           14.0   \n",
      "4                  0.0             NaN              NaN           10.0   \n",
      "\n",
      "                               ID.x                              ID.y  \\\n",
      "0  02d9465b21e8bd09374b0066fb2d5614  eb78c1c3ac6cd9052aec557065070fbf   \n",
      "1  5bfef9ecb211ec4f518cfc1d2a6f3e0c  21db37adb60cdcafadfa7dca1b13b6b1   \n",
      "2  14f1863afa9c7de488050b82eb3edd96  21ba173828fbe9e27ccebaf4d5166a55   \n",
      "3  91756eb4dc280062a541c25a3d44cfb0  3be37b558f02daae93a6da10f83f0c77   \n",
      "4  aa3f061a1949a90b27bef7411ecd193f  d7c56bbf2c7b62096be9db010e86d96d   \n",
      "\n",
      "    Income  IsEthnicMinority  IsReceiveDisabilitiesBenefits  IsSoftwareDev  \\\n",
      "0      NaN               NaN                            0.0            0.0   \n",
      "1      NaN               0.0                            0.0            0.0   \n",
      "2  13000.0               1.0                            0.0            0.0   \n",
      "3  24000.0               0.0                            0.0            0.0   \n",
      "4      NaN               0.0                            0.0            0.0   \n",
      "\n",
      "   IsUnderEmployed              JobApplyWhen  JobInterestBackEnd  \\\n",
      "0              0.0                       NaN                 NaN   \n",
      "1              NaN     Within 7 to 12 months                 NaN   \n",
      "2              0.0     Within 7 to 12 months                 1.0   \n",
      "3              1.0  Within the next 6 months                 1.0   \n",
      "4              NaN     Within 7 to 12 months                 1.0   \n",
      "\n",
      "   JobInterestDataEngr  JobInterestDataSci  JobInterestDevOps  \\\n",
      "0                  NaN                 NaN                NaN   \n",
      "1                  NaN                 NaN                NaN   \n",
      "2                  NaN                 NaN                1.0   \n",
      "3                  NaN                 NaN                NaN   \n",
      "4                  NaN                 NaN                NaN   \n",
      "\n",
      "   JobInterestFrontEnd  JobInterestFullStack  JobInterestGameDev  \\\n",
      "0                  NaN                   NaN                 NaN   \n",
      "1                  NaN                   1.0                 NaN   \n",
      "2                  1.0                   1.0                 NaN   \n",
      "3                  1.0                   1.0                 NaN   \n",
      "4                  1.0                   1.0                 NaN   \n",
      "\n",
      "   JobInterestInfoSec  JobInterestMobile JobInterestOther  \\\n",
      "0                 NaN                NaN              NaN   \n",
      "1                 NaN                NaN              NaN   \n",
      "2                 NaN                1.0              NaN   \n",
      "3                 NaN                NaN              NaN   \n",
      "4                 1.0                1.0              NaN   \n",
      "\n",
      "   JobInterestProjMngr  JobInterestQAEngr  JobInterestUX  \\\n",
      "0                  NaN                NaN            NaN   \n",
      "1                  NaN                NaN            NaN   \n",
      "2                  NaN                NaN            NaN   \n",
      "3                  NaN                NaN            NaN   \n",
      "4                  NaN                NaN            NaN   \n",
      "\n",
      "                                JobPref  JobRelocateYesNo  \\\n",
      "0               start your own business               NaN   \n",
      "1                  work for a nonprofit               1.0   \n",
      "2       work for a medium-sized company               1.0   \n",
      "3       work for a medium-sized company               NaN   \n",
      "4  work for a multinational corporation               1.0   \n",
      "\n",
      "                                     JobRoleInterest  \\\n",
      "0                                                NaN   \n",
      "1                           Full-Stack Web Developer   \n",
      "2    Front-End Web Developer, Back-End Web Develo...   \n",
      "3    Front-End Web Developer, Full-Stack Web Deve...   \n",
      "4  Full-Stack Web Developer, Information Security...   \n",
      "\n",
      "                         JobWherePref LanguageAtHome  \\\n",
      "0                                 NaN        English   \n",
      "1  in an office with other developers        English   \n",
      "2                       no preference        Spanish   \n",
      "3                           from home     Portuguese   \n",
      "4  in an office with other developers     Portuguese   \n",
      "\n",
      "                     MaritalStatus  MoneyForLearning  MonthsProgramming  \\\n",
      "0  married or domestic partnership             150.0                6.0   \n",
      "1            single, never married              80.0                6.0   \n",
      "2            single, never married            1000.0                5.0   \n",
      "3  married or domestic partnership               0.0                5.0   \n",
      "4            single, never married               0.0               24.0   \n",
      "\n",
      "    NetworkID         Part1EndTime       Part1StartTime         Part2EndTime  \\\n",
      "0  6f1fbc6b2b  2017-03-09 00:36:22  2017-03-09 00:32:59  2017-03-09 00:59:46   \n",
      "1  f8f8be6910  2017-03-09 00:37:07  2017-03-09 00:33:26  2017-03-09 00:38:59   \n",
      "2  2ed189768e  2017-03-09 00:37:58  2017-03-09 00:33:53  2017-03-09 00:40:14   \n",
      "3  dbdc0664d1  2017-03-09 00:40:13  2017-03-09 00:37:45  2017-03-09 00:42:26   \n",
      "4  11b0f2d8a9  2017-03-09 00:42:45  2017-03-09 00:39:44  2017-03-09 00:45:42   \n",
      "\n",
      "        Part2StartTime  PodcastChangeLog  PodcastCodeNewbie  PodcastCodePen  \\\n",
      "0  2017-03-09 00:36:26               NaN                NaN             NaN   \n",
      "1  2017-03-09 00:37:10               NaN                1.0             NaN   \n",
      "2  2017-03-09 00:38:02               1.0                NaN             1.0   \n",
      "3  2017-03-09 00:40:18               NaN                NaN             NaN   \n",
      "4  2017-03-09 00:42:50               NaN                NaN             NaN   \n",
      "\n",
      "   PodcastDevTea  PodcastDotNET  PodcastGiantRobots  PodcastJSAir  \\\n",
      "0            1.0            NaN                 NaN           NaN   \n",
      "1            NaN            NaN                 NaN           NaN   \n",
      "2            NaN            NaN                 NaN           NaN   \n",
      "3            NaN            NaN                 NaN           NaN   \n",
      "4            NaN            NaN                 NaN           NaN   \n",
      "\n",
      "   PodcastJSJabber  PodcastNone PodcastOther  PodcastProgThrowdown  \\\n",
      "0              NaN          NaN          NaN                   NaN   \n",
      "1              NaN          NaN          NaN                   NaN   \n",
      "2              NaN          NaN   Codenewbie                   NaN   \n",
      "3              NaN          NaN          NaN                   NaN   \n",
      "4              NaN          NaN          NaN                   NaN   \n",
      "\n",
      "   PodcastRubyRogues  PodcastSEDaily  PodcastSERadio  PodcastShopTalk  \\\n",
      "0                NaN             NaN             NaN              NaN   \n",
      "1                NaN             NaN             NaN              NaN   \n",
      "2                NaN             NaN             NaN              1.0   \n",
      "3                NaN             NaN             NaN              NaN   \n",
      "4                NaN             NaN             NaN              NaN   \n",
      "\n",
      "   PodcastTalkPython  PodcastTheWebAhead  ResourceCodecademy  \\\n",
      "0                NaN                 NaN                 1.0   \n",
      "1                NaN                 NaN                 1.0   \n",
      "2                NaN                 NaN                 1.0   \n",
      "3                NaN                 NaN                 NaN   \n",
      "4                NaN                 NaN                 NaN   \n",
      "\n",
      "   ResourceCodeWars  ResourceCoursera  ResourceCSS  ResourceEdX  \\\n",
      "0               NaN               NaN          NaN          NaN   \n",
      "1               NaN               NaN          1.0          NaN   \n",
      "2               NaN               NaN          1.0          NaN   \n",
      "3               NaN               NaN          NaN          NaN   \n",
      "4               NaN               NaN          NaN          NaN   \n",
      "\n",
      "   ResourceEgghead  ResourceFCC  ResourceHackerRank  ResourceKA  \\\n",
      "0              NaN          1.0                 NaN         NaN   \n",
      "1              NaN          1.0                 NaN         NaN   \n",
      "2              NaN          1.0                 NaN         NaN   \n",
      "3              1.0          1.0                 NaN         NaN   \n",
      "4              NaN          NaN                 NaN         NaN   \n",
      "\n",
      "   ResourceLynda  ResourceMDN  ResourceOdinProj ResourceOther  \\\n",
      "0            NaN          1.0               NaN           NaN   \n",
      "1            NaN          NaN               NaN           NaN   \n",
      "2            NaN          1.0               NaN           NaN   \n",
      "3            NaN          1.0               NaN           NaN   \n",
      "4            NaN          NaN               NaN           NaN   \n",
      "\n",
      "   ResourcePluralSight  ResourceSkillcrush  ResourceSO  ResourceTreehouse  \\\n",
      "0                  NaN                 NaN         NaN                NaN   \n",
      "1                  NaN                 NaN         1.0                NaN   \n",
      "2                  NaN                 NaN         NaN                NaN   \n",
      "3                  NaN                 NaN         1.0                NaN   \n",
      "4                  NaN                 NaN         1.0                NaN   \n",
      "\n",
      "   ResourceUdacity  ResourceUdemy  ResourceW3S  \\\n",
      "0              NaN            1.0          1.0   \n",
      "1              NaN            1.0          1.0   \n",
      "2              1.0            1.0          NaN   \n",
      "3              NaN            NaN          NaN   \n",
      "4              NaN            NaN          NaN   \n",
      "\n",
      "                              SchoolDegree             SchoolMajor  \\\n",
      "0           some college credit, no degree                     NaN   \n",
      "1           some college credit, no degree                     NaN   \n",
      "2  high school diploma or equivalent (GED)                     NaN   \n",
      "3           some college credit, no degree                     NaN   \n",
      "4                        bachelor's degree  Information Technology   \n",
      "\n",
      "   StudentDebtOwe  YouTubeCodeCourse  YouTubeCodingTrain  YouTubeCodingTut360  \\\n",
      "0             NaN                NaN                 NaN                  NaN   \n",
      "1             NaN                NaN                 NaN                  NaN   \n",
      "2             NaN                NaN                 NaN                  1.0   \n",
      "3             NaN                NaN                 NaN                  NaN   \n",
      "4             NaN                NaN                 NaN                  NaN   \n",
      "\n",
      "   YouTubeComputerphile  YouTubeDerekBanas  YouTubeDevTips  \\\n",
      "0                   NaN                NaN             NaN   \n",
      "1                   NaN                NaN             NaN   \n",
      "2                   NaN                1.0             1.0   \n",
      "3                   NaN                NaN             1.0   \n",
      "4                   NaN                NaN             NaN   \n",
      "\n",
      "   YouTubeEngineeredTruth  YouTubeFCC  YouTubeFunFunFunction  \\\n",
      "0                     NaN         NaN                    NaN   \n",
      "1                     NaN         1.0                    NaN   \n",
      "2                     NaN         NaN                    NaN   \n",
      "3                     NaN         1.0                    1.0   \n",
      "4                     NaN         NaN                    NaN   \n",
      "\n",
      "   YouTubeGoogleDev  YouTubeLearnCode  YouTubeLevelUpTuts  YouTubeMIT  \\\n",
      "0               NaN               NaN                 NaN         NaN   \n",
      "1               NaN               NaN                 NaN         NaN   \n",
      "2               NaN               1.0                 1.0         NaN   \n",
      "3               NaN               NaN                 1.0         NaN   \n",
      "4               NaN               NaN                 NaN         NaN   \n",
      "\n",
      "   YouTubeMozillaHacks YouTubeOther  YouTubeSimplilearn  YouTubeTheNewBoston  \n",
      "0                  NaN          NaN                 NaN                  NaN  \n",
      "1                  NaN          NaN                 NaN                  NaN  \n",
      "2                  NaN          NaN                 NaN                  NaN  \n",
      "3                  NaN          NaN                 NaN                  NaN  \n",
      "4                  NaN          NaN                 NaN                  NaN  \n"
     ]
    },
    {
     "name": "stderr",
     "output_type": "stream",
     "text": [
      "/dataquest/system/env/python3/lib/python3.4/site-packages/IPython/core/interactiveshell.py:2723: DtypeWarning: Columns (17,62) have mixed types. Specify dtype option on import or set low_memory=False.\n",
      "  interactivity=interactivity, compiler=compiler, result=result)\n"
     ]
    }
   ],
   "source": [
    "#read in data\n",
    "import pandas as pd\n",
    "import numpy as np\n",
    "survey_data=pd.read_csv(\"2017-fCC-New-Coders-Survey-Data.csv\")\n",
    "pd.options.display.max_columns = 150 # to avoid truncated output \n",
    "print(survey_data.info())\n",
    "print(survey_data.head())"
   ]
  },
  {
   "cell_type": "markdown",
   "metadata": {},
   "source": [
    "# Checking for Sample Representativity\n",
    "As we mentioned in the introduction, most of our courses are on web and mobile development, but we also cover many other domains, like data science, game development, etc. For the purpose of our analysis, we want to answer questions about a population of new coders that are interested in the subjects we teach. We'd like to know:\n",
    "\n",
    "Where are these new coders located.<br>\n",
    "What locations have the greatest densities of new coders.<br>\n",
    "How much money they're willing to spend on learning.<rb>\n",
    "So we first need to clarify whether the data set has the right categories of people for our purpose. The JobRoleInterest column describes for every participant the role(s) they'd be interested in working in. If a participant is interested in working in a certain domain, it means that they're also interested in learning about that domain. So let's take a look at the frequency distribution table of this column and determine whether the data we have is relevant.\n",
    "\n"
   ]
  },
  {
   "cell_type": "code",
   "execution_count": 37,
   "metadata": {
    "collapsed": false
   },
   "outputs": [
    {
     "name": "stdout",
     "output_type": "stream",
     "text": [
      "Full-Stack Web Developer                                                                                                                                                                       11.770595\n",
      "  Front-End Web Developer                                                                                                                                                                       6.435927\n",
      "  Data Scientist                                                                                                                                                                                2.173913\n",
      "Back-End Web Developer                                                                                                                                                                          2.030892\n",
      "  Mobile Developer                                                                                                                                                                              1.673341\n",
      "Game Developer                                                                                                                                                                                  1.630435\n",
      "Information Security                                                                                                                                                                            1.315789\n",
      "Full-Stack Web Developer,   Front-End Web Developer                                                                                                                                             0.915332\n",
      "  Front-End Web Developer, Full-Stack Web Developer                                                                                                                                             0.800915\n",
      "  Product Manager                                                                                                                                                                               0.786613\n",
      "Data Engineer                                                                                                                                                                                   0.758009\n",
      "  User Experience Designer                                                                                                                                                                      0.743707\n",
      "  User Experience Designer,   Front-End Web Developer                                                                                                                                           0.614989\n",
      "  Front-End Web Developer, Back-End Web Developer, Full-Stack Web Developer                                                                                                                     0.557780\n",
      "  DevOps / SysAdmin                                                                                                                                                                             0.514874\n",
      "Back-End Web Developer,   Front-End Web Developer, Full-Stack Web Developer                                                                                                                     0.514874\n",
      "Back-End Web Developer, Full-Stack Web Developer,   Front-End Web Developer                                                                                                                     0.514874\n",
      "Full-Stack Web Developer,   Front-End Web Developer, Back-End Web Developer                                                                                                                     0.443364\n",
      "  Front-End Web Developer, Full-Stack Web Developer, Back-End Web Developer                                                                                                                     0.429062\n",
      "Full-Stack Web Developer,   Mobile Developer                                                                                                                                                    0.414760\n",
      "  Front-End Web Developer,   User Experience Designer                                                                                                                                           0.414760\n",
      "Back-End Web Developer, Full-Stack Web Developer                                                                                                                                                0.386156\n",
      "Full-Stack Web Developer, Back-End Web Developer                                                                                                                                                0.371854\n",
      "Back-End Web Developer,   Front-End Web Developer                                                                                                                                               0.286041\n",
      "Full-Stack Web Developer, Back-End Web Developer,   Front-End Web Developer                                                                                                                     0.271739\n",
      "Data Engineer,   Data Scientist                                                                                                                                                                 0.271739\n",
      "  Front-End Web Developer,   Mobile Developer                                                                                                                                                   0.257437\n",
      "Full-Stack Web Developer,   Data Scientist                                                                                                                                                      0.243135\n",
      "  Data Scientist, Data Engineer                                                                                                                                                                 0.228833\n",
      "  Mobile Developer, Game Developer                                                                                                                                                              0.228833\n",
      "                                                                                                                                                                                                 ...    \n",
      "Information Security, Full-Stack Web Developer,   Front-End Web Developer,   User Experience Designer, Back-End Web Developer,   Mobile Developer                                               0.014302\n",
      "  DevOps / SysAdmin,   Front-End Web Developer, Back-End Web Developer, Information Security, Full-Stack Web Developer                                                                          0.014302\n",
      "Information Security,   Quality Assurance Engineer, Data Engineer,   Product Manager,   Data Scientist                                                                                          0.014302\n",
      "Back-End Web Developer,   Mobile Developer,   User Experience Designer,   Front-End Web Developer                                                                                               0.014302\n",
      "Information Security,   Mobile Developer,   Front-End Web Developer, Back-End Web Developer                                                                                                     0.014302\n",
      "  Front-End Web Developer, Full-Stack Web Developer, Game Developer, Back-End Web Developer,   Mobile Developer, Information Security                                                           0.014302\n",
      "Information Security,   User Experience Designer, Back-End Web Developer,   Mobile Developer, Full-Stack Web Developer, Data Engineer,   Front-End Web Developer                                0.014302\n",
      "  User Experience Designer, Information Security,   Mobile Developer,   DevOps / SysAdmin, Game Developer, Full-Stack Web Developer                                                             0.014302\n",
      "Back-End Web Developer,   Front-End Web Developer, Data Engineer, Full-Stack Web Developer,   Mobile Developer,   User Experience Designer                                                      0.014302\n",
      "Front end, back end, game, web, mobile developer                                                                                                                                                0.014302\n",
      "  Data Scientist,   Quality Assurance Engineer, Back-End Web Developer,   Front-End Web Developer                                                                                               0.014302\n",
      "  User Experience Designer,   Mobile Developer,   Data Scientist, Information Security, Data Engineer, Back-End Web Developer                                                                   0.014302\n",
      "  Product Manager,   User Experience Designer,   Front-End Web Developer, Back-End Web Developer, Full-Stack Web Developer                                                                      0.014302\n",
      "Data Engineer, Back-End Web Developer,   Front-End Web Developer, Full-Stack Web Developer,   DevOps / SysAdmin                                                                                 0.014302\n",
      "Data Engineer,   DevOps / SysAdmin, Back-End Web Developer                                                                                                                                      0.014302\n",
      "Back-End Web Developer, Full-Stack Web Developer, Game Developer,   DevOps / SysAdmin,   Mobile Developer,   Front-End Web Developer,   User Experience Designer                                0.014302\n",
      "Information Security,   Front-End Web Developer,   User Experience Designer,   DevOps / SysAdmin,   Product Manager, Game Developer, Full-Stack Web Developer,   Quality Assurance Engineer     0.014302\n",
      "Full-Stack Web Developer, Game Developer,   Front-End Web Developer,   User Experience Designer                                                                                                 0.014302\n",
      "  Product Manager, Full-Stack Web Developer, Data Engineer                                                                                                                                      0.014302\n",
      "  Data Scientist,   User Experience Designer,   DevOps / SysAdmin, Information Security                                                                                                         0.014302\n",
      "Game Developer, Information Security,   Mobile Developer,   DevOps / SysAdmin, Full-Stack Web Developer,   Front-End Web Developer                                                              0.014302\n",
      "Game Developer,   Front-End Web Developer,   Quality Assurance Engineer, Full-Stack Web Developer                                                                                               0.014302\n",
      "  DevOps / SysAdmin, Information Security,   Front-End Web Developer                                                                                                                            0.014302\n",
      "  User Experience Designer, Full-Stack Web Developer,   Mobile Developer, Data Engineer, Back-End Web Developer                                                                                 0.014302\n",
      "Back-End Web Developer, Game Developer,   Mobile Developer,   Front-End Web Developer, Full-Stack Web Developer                                                                                 0.014302\n",
      "  Mobile Developer,   Product Manager, Back-End Web Developer,   DevOps / SysAdmin, Data Engineer,   Data Scientist, Information Security,   User Experience Designer                           0.014302\n",
      "Full-Stack Web Developer,   Front-End Web Developer, Back-End Web Developer,   Product Manager, Data Engineer                                                                                   0.014302\n",
      "Full-Stack Web Developer,   Product Manager,   User Experience Designer                                                                                                                         0.014302\n",
      "Data Engineer,   Data Scientist, Information Security                                                                                                                                           0.014302\n",
      "  Data Scientist,   Product Manager,   Mobile Developer, Data Engineer                                                                                                                          0.014302\n",
      "Name: JobRoleInterest, Length: 3213, dtype: float64\n"
     ]
    }
   ],
   "source": [
    "print(survey_data[\"JobRoleInterest\"].value_counts(normalize=True)*100)"
   ]
  },
  {
   "cell_type": "code",
   "execution_count": 38,
   "metadata": {
    "collapsed": false
   },
   "outputs": [
    {
     "name": "stdout",
     "output_type": "stream",
     "text": [
      "Full-Stack Web Developer                                                                                                                                                                       823\n",
      "  Front-End Web Developer                                                                                                                                                                      450\n",
      "  Data Scientist                                                                                                                                                                               152\n",
      "Back-End Web Developer                                                                                                                                                                         142\n",
      "  Mobile Developer                                                                                                                                                                             117\n",
      "Game Developer                                                                                                                                                                                 114\n",
      "Information Security                                                                                                                                                                            92\n",
      "Full-Stack Web Developer,   Front-End Web Developer                                                                                                                                             64\n",
      "  Front-End Web Developer, Full-Stack Web Developer                                                                                                                                             56\n",
      "  Product Manager                                                                                                                                                                               55\n",
      "Data Engineer                                                                                                                                                                                   53\n",
      "  User Experience Designer                                                                                                                                                                      52\n",
      "  User Experience Designer,   Front-End Web Developer                                                                                                                                           43\n",
      "  Front-End Web Developer, Back-End Web Developer, Full-Stack Web Developer                                                                                                                     39\n",
      "  DevOps / SysAdmin                                                                                                                                                                             36\n",
      "Back-End Web Developer,   Front-End Web Developer, Full-Stack Web Developer                                                                                                                     36\n",
      "Back-End Web Developer, Full-Stack Web Developer,   Front-End Web Developer                                                                                                                     36\n",
      "Full-Stack Web Developer,   Front-End Web Developer, Back-End Web Developer                                                                                                                     31\n",
      "  Front-End Web Developer, Full-Stack Web Developer, Back-End Web Developer                                                                                                                     30\n",
      "Full-Stack Web Developer,   Mobile Developer                                                                                                                                                    29\n",
      "  Front-End Web Developer,   User Experience Designer                                                                                                                                           29\n",
      "Back-End Web Developer, Full-Stack Web Developer                                                                                                                                                27\n",
      "Full-Stack Web Developer, Back-End Web Developer                                                                                                                                                26\n",
      "Back-End Web Developer,   Front-End Web Developer                                                                                                                                               20\n",
      "Full-Stack Web Developer, Back-End Web Developer,   Front-End Web Developer                                                                                                                     19\n",
      "Data Engineer,   Data Scientist                                                                                                                                                                 19\n",
      "  Front-End Web Developer,   Mobile Developer                                                                                                                                                   18\n",
      "Full-Stack Web Developer,   Data Scientist                                                                                                                                                      17\n",
      "  Data Scientist, Data Engineer                                                                                                                                                                 16\n",
      "  Mobile Developer, Game Developer                                                                                                                                                              16\n",
      "                                                                                                                                                                                              ... \n",
      "Information Security, Full-Stack Web Developer,   Front-End Web Developer,   User Experience Designer, Back-End Web Developer,   Mobile Developer                                                1\n",
      "  DevOps / SysAdmin,   Front-End Web Developer, Back-End Web Developer, Information Security, Full-Stack Web Developer                                                                           1\n",
      "Information Security,   Quality Assurance Engineer, Data Engineer,   Product Manager,   Data Scientist                                                                                           1\n",
      "Back-End Web Developer,   Mobile Developer,   User Experience Designer,   Front-End Web Developer                                                                                                1\n",
      "Information Security,   Mobile Developer,   Front-End Web Developer, Back-End Web Developer                                                                                                      1\n",
      "  Front-End Web Developer, Full-Stack Web Developer, Game Developer, Back-End Web Developer,   Mobile Developer, Information Security                                                            1\n",
      "Information Security,   User Experience Designer, Back-End Web Developer,   Mobile Developer, Full-Stack Web Developer, Data Engineer,   Front-End Web Developer                                 1\n",
      "  User Experience Designer, Information Security,   Mobile Developer,   DevOps / SysAdmin, Game Developer, Full-Stack Web Developer                                                              1\n",
      "Back-End Web Developer,   Front-End Web Developer, Data Engineer, Full-Stack Web Developer,   Mobile Developer,   User Experience Designer                                                       1\n",
      "Front end, back end, game, web, mobile developer                                                                                                                                                 1\n",
      "  Data Scientist,   Quality Assurance Engineer, Back-End Web Developer,   Front-End Web Developer                                                                                                1\n",
      "  User Experience Designer,   Mobile Developer,   Data Scientist, Information Security, Data Engineer, Back-End Web Developer                                                                    1\n",
      "  Product Manager,   User Experience Designer,   Front-End Web Developer, Back-End Web Developer, Full-Stack Web Developer                                                                       1\n",
      "Data Engineer, Back-End Web Developer,   Front-End Web Developer, Full-Stack Web Developer,   DevOps / SysAdmin                                                                                  1\n",
      "Data Engineer,   DevOps / SysAdmin, Back-End Web Developer                                                                                                                                       1\n",
      "Back-End Web Developer, Full-Stack Web Developer, Game Developer,   DevOps / SysAdmin,   Mobile Developer,   Front-End Web Developer,   User Experience Designer                                 1\n",
      "Information Security,   Front-End Web Developer,   User Experience Designer,   DevOps / SysAdmin,   Product Manager, Game Developer, Full-Stack Web Developer,   Quality Assurance Engineer      1\n",
      "Full-Stack Web Developer, Game Developer,   Front-End Web Developer,   User Experience Designer                                                                                                  1\n",
      "  Product Manager, Full-Stack Web Developer, Data Engineer                                                                                                                                       1\n",
      "  Data Scientist,   User Experience Designer,   DevOps / SysAdmin, Information Security                                                                                                          1\n",
      "Game Developer, Information Security,   Mobile Developer,   DevOps / SysAdmin, Full-Stack Web Developer,   Front-End Web Developer                                                               1\n",
      "Game Developer,   Front-End Web Developer,   Quality Assurance Engineer, Full-Stack Web Developer                                                                                                1\n",
      "  DevOps / SysAdmin, Information Security,   Front-End Web Developer                                                                                                                             1\n",
      "  User Experience Designer, Full-Stack Web Developer,   Mobile Developer, Data Engineer, Back-End Web Developer                                                                                  1\n",
      "Back-End Web Developer, Game Developer,   Mobile Developer,   Front-End Web Developer, Full-Stack Web Developer                                                                                  1\n",
      "  Mobile Developer,   Product Manager, Back-End Web Developer,   DevOps / SysAdmin, Data Engineer,   Data Scientist, Information Security,   User Experience Designer                            1\n",
      "Full-Stack Web Developer,   Front-End Web Developer, Back-End Web Developer,   Product Manager, Data Engineer                                                                                    1\n",
      "Full-Stack Web Developer,   Product Manager,   User Experience Designer                                                                                                                          1\n",
      "Data Engineer,   Data Scientist, Information Security                                                                                                                                            1\n",
      "  Data Scientist,   Product Manager,   Mobile Developer, Data Engineer                                                                                                                           1\n",
      "Name: JobRoleInterest, Length: 3213, dtype: int64\n"
     ]
    }
   ],
   "source": [
    "print(survey_data[\"JobRoleInterest\"].value_counts())\n"
   ]
  },
  {
   "cell_type": "markdown",
   "metadata": {},
   "source": [
    "\n",
    "The information in the table above is quite granular, but from a quick scan it looks like:\n",
    "\n",
    "A lot of people are interested in web development (full-stack web development, front-end web development and back-end web development).\n",
    "A few people are interested in mobile development.\n",
    "A few people are interested in domains other than web and mobile development.\n",
    "It's also interesting to note that many respondents are interested in more than one subject. It'd be useful to get a better picture of how many people are interested in a single subject and how many have mixed interests. Consequently, in the next code block, we'll:\n",
    "\n",
    "Split each string in the JobRoleInterest column to find the number of options for each participant.\n",
    "We'll first drop the null values because we can't split Nan values.\n",
    "Generate a frequency table for the variable describing the number of options."
   ]
  },
  {
   "cell_type": "code",
   "execution_count": 39,
   "metadata": {
    "collapsed": false,
    "scrolled": true
   },
   "outputs": [
    {
     "name": "stdout",
     "output_type": "stream",
     "text": [
      "(6992, 136)\n"
     ]
    }
   ],
   "source": [
    "import numpy as np\n",
    "job_role_interested=survey_data[survey_data[\"JobRoleInterest\"].notna()]\n",
    "print(job_role_interested.shape)"
   ]
  },
  {
   "cell_type": "code",
   "execution_count": 87,
   "metadata": {
    "collapsed": false
   },
   "outputs": [
    {
     "data": {
      "text/plain": [
       "1     31.650458\n",
       "2     10.883867\n",
       "3     15.889588\n",
       "4     15.217391\n",
       "5     12.042334\n",
       "6      6.721968\n",
       "7      3.861556\n",
       "8      1.759153\n",
       "9      0.986842\n",
       "10     0.471968\n",
       "11     0.185927\n",
       "12     0.300343\n",
       "13     0.028604\n",
       "Name: JobRoleInterest, dtype: float64"
      ]
     },
     "execution_count": 87,
     "metadata": {},
     "output_type": "execute_result"
    }
   ],
   "source": [
    "# Split each string in the 'JobRoleInterest' column\n",
    "interests_no_nulls = survey_data['JobRoleInterest'].dropna()\n",
    "splitted_interests = interests_no_nulls.str.split(',')\n",
    "\n",
    "# Frequency table for the var describing the number of options\n",
    "n_of_options = splitted_interests.apply(lambda x: len(x)) # x is a list of job options\n",
    "n_of_options.value_counts(normalize = True).sort_index() * 100"
   ]
  },
  {
   "cell_type": "code",
   "execution_count": 40,
   "metadata": {
    "collapsed": false
   },
   "outputs": [
    {
     "data": {
      "text/plain": [
       "True     6034\n",
       "False     958\n",
       "Name: JobRoleInterest, dtype: int64"
      ]
     },
     "execution_count": 40,
     "metadata": {},
     "output_type": "execute_result"
    }
   ],
   "source": [
    "#developer=[\"Full-Stack Web Developer\",\"Front-End Web Developer\"\n",
    "job_role_interested[\"JobRoleInterest\"].str.contains(\"Web|Mobile\",regex=True).value_counts()"
   ]
  },
  {
   "cell_type": "markdown",
   "metadata": {},
   "source": [
    "It turns out that only 31.7% of the participants have a clear idea about what programming niche they'd like to work in, while the vast majority of students have mixed interests. But given that we offer courses on various subjects, the fact that new coders have mixed interest might be actually good for us.\n",
    "\n",
    "The focus of our courses is on web and mobile development, so let's find out how many respondents chose at least one of these two options.\n",
    "\n"
   ]
  },
  {
   "cell_type": "markdown",
   "metadata": {},
   "source": [
    "18175 people paticipated in survey in that only 6992 people answered the question for job role interested.Out of 6992 people 6034 people are interested in web and mobile development."
   ]
  },
  {
   "cell_type": "code",
   "execution_count": 41,
   "metadata": {
    "collapsed": false
   },
   "outputs": [
    {
     "name": "stdout",
     "output_type": "stream",
     "text": [
      "2213\n",
      "4779\n",
      "13\n"
     ]
    }
   ],
   "source": [
    "count=0\n",
    "array=[]\n",
    "for subject in job_role_interested[\"JobRoleInterest\"]:\n",
    "    new_subject=subject.split(',')\n",
    "    array.append(new_subject)\n",
    "one_subject_interested=0\n",
    "more_than_one_subject_interested=0\n",
    "for i in array:\n",
    "    if len(i)>1:\n",
    "        one_subject_interested+=1\n",
    "    else:\n",
    "        more_than_one_subject_interested+=1\n",
    "max=0\n",
    "for i in array:\n",
    "    length=len(i)\n",
    "    if length>max:\n",
    "        max=length\n",
    "print(more_than_one_subject_interested)\n",
    "print(one_subject_interested)\n",
    "print(max)\n",
    "        "
   ]
  },
  {
   "cell_type": "code",
   "execution_count": 42,
   "metadata": {
    "collapsed": true
   },
   "outputs": [],
   "source": [
    "no_of_subjects_interest=pd.Series([one_subject_interested,more_than_one_subject_interested],index=[\"one_subject\",\"more_than_one\"])"
   ]
  },
  {
   "cell_type": "code",
   "execution_count": 88,
   "metadata": {
    "collapsed": false
   },
   "outputs": [
    {
     "name": "stdout",
     "output_type": "stream",
     "text": [
      "True     86.241419\n",
      "False    13.758581\n",
      "Name: JobRoleInterest, dtype: float64\n"
     ]
    },
    {
     "data": {
      "image/png": "[encoded data removed]",
      "text/plain": [
       "<matplotlib.figure.Figure at 0x7f467b299240>"
      ]
     },
     "metadata": {},
     "output_type": "display_data"
    }
   ],
   "source": [
    "# Frequency table\n",
    "web_or_mobile = interests_no_nulls.str.contains(\n",
    "    'Web Developer|Mobile Developer') # returns an array of booleans\n",
    "freq_table = web_or_mobile.value_counts(normalize = True) * 100\n",
    "print(freq_table)\n",
    "\n",
    "# Graph for the frequency table above\n",
    "%matplotlib inline\n",
    "import matplotlib.pyplot as plt\n",
    "plt.style.use('fivethirtyeight')\n",
    "\n",
    "freq_table.plot.bar()\n",
    "plt.title('Most Participants are Interested in \\nWeb or Mobile Development',\n",
    "          y = 1.08) # y pads the title upward\n",
    "plt.ylabel('Percentage', fontsize = 12)\n",
    "plt.xticks([0,1],['Web or mobile\\ndevelopment', 'Other subject'],\n",
    "           rotation = 0) # the initial xtick labels were True and False\n",
    "plt.ylim([0,100])\n",
    "plt.show()\n"
   ]
  },
  {
   "cell_type": "markdown",
   "metadata": {},
   "source": [
    "It turns out that most people in this survey (roughly 86%) are interested in either web or mobile development. These figures offer us a strong reason to consider this sample representative for our population of interest. We want to advertise our courses to people interested in all sorts of programming niches but mostly web and mobile development.\n",
    "\n",
    "Now we need to figure out what are the best markets to invest money in for advertising our courses. We'd like to know:\n",
    "\n",
    "Where are these new coders located.\n",
    "What are the locations with the greatest number of new coders.\n",
    "How much money new coders are willing to spend on learning.\n"
   ]
  },
  {
   "cell_type": "code",
   "execution_count": 43,
   "metadata": {
    "collapsed": false
   },
   "outputs": [
    {
     "data": {
      "text/plain": [
       "<matplotlib.text.Text at 0x7f467b565710>"
      ]
     },
     "execution_count": 43,
     "metadata": {},
     "output_type": "execute_result"
    },
    {
     "data": {
      "image/png": "[encoded data removed]",
      "text/plain": [
       "<matplotlib.figure.Figure at 0x7f467bac24e0>"
      ]
     },
     "metadata": {},
     "output_type": "display_data"
    }
   ],
   "source": [
    "import matplotlib.pyplot as plt\n",
    "%matplotlib inline\n",
    "plt.style.use(\"fivethirtyeight\")\n",
    "no_of_subjects_interest.plot.bar()\n",
    "plt.xlabel(\"subjects interest\")"
   ]
  },
  {
   "cell_type": "code",
   "execution_count": 44,
   "metadata": {
    "collapsed": false
   },
   "outputs": [],
   "source": [
    "Full_Stack=survey_data[survey_data[\"JobRoleInterest\"].str.contains(\"Full-Stack Web Developer\",na=False,regex=True)].shape[0]\n",
    "Front_End=survey_data[survey_data[\"JobRoleInterest\"].str.contains(\"Front-End Web Developer\",na=False,regex=True)].shape[0]\n",
    "Back_End=survey_data[survey_data[\"JobRoleInterest\"].str.contains(\"Back-End Web Developer\",na=False,regex=True)].shape[0]\n",
    "Mobile_Developer=survey_data[survey_data[\"JobRoleInterest\"].str.contains(\"Mobile Developer\",na=False,regex=True)].shape[0]\n"
   ]
  },
  {
   "cell_type": "code",
   "execution_count": 45,
   "metadata": {
    "collapsed": false
   },
   "outputs": [],
   "source": [
    "Web_Mobile_Interest=pd.Series([Full_Stack,Front_End,Back_End,Mobile_Developer],index=[\"Full_Stack\",\"Front_End\",\"Back_End\",\"Mobile_Developer\"])"
   ]
  },
  {
   "cell_type": "code",
   "execution_count": 46,
   "metadata": {
    "collapsed": false
   },
   "outputs": [
    {
     "name": "stdout",
     "output_type": "stream",
     "text": [
      "Full_Stack          4198\n",
      "Front_End           3534\n",
      "Back_End            2772\n",
      "Mobile_Developer    2304\n",
      "dtype: int64\n"
     ]
    },
    {
     "data": {
      "image/png": "[encoded data removed]",
      "text/plain": [
       "<matplotlib.figure.Figure at 0x7f467adcb3c8>"
      ]
     },
     "metadata": {},
     "output_type": "display_data"
    }
   ],
   "source": [
    "plt.style.use(\"fivethirtyeight\")\n",
    "Web_Mobile_Interest.plot.bar()\n",
    "print(Web_Mobile_Interest)"
   ]
  },
  {
   "cell_type": "markdown",
   "metadata": {},
   "source": [
    "From above graph it observes that most of the people are interested in Full stack web developer and less people interest in Mobile Developer"
   ]
  },
  {
   "cell_type": "markdown",
   "metadata": {},
   "source": [
    "# New Coders - Locations and Densities\n",
    "Let's begin with finding out where these new coders are located, and what are the densities (how many new coders there are) for each location. This should be a good start for finding out the best two markets to run our ads campaign in.\n",
    "\n",
    "The data set provides information about the location of each participant at a country level. We can think of each country as an individual market, so we can frame our goal as finding the two best countries to advertise in.\n",
    "\n",
    "We can start by examining the frequency distribution table of the CountryLive variable, which describes what country each participant lives in (not their origin country). We'll only consider those participants who answered what role(s) they're interested in, to make sure we work with a representative sample.\n",
    "\n"
   ]
  },
  {
   "cell_type": "code",
   "execution_count": 47,
   "metadata": {
    "collapsed": false
   },
   "outputs": [
    {
     "data": {
      "text/plain": [
       "United States of America         45.700497\n",
       "India                             7.721556\n",
       "United Kingdom                    4.606610\n",
       "Canada                            3.802281\n",
       "Poland                            1.915765\n",
       "Brazil                            1.886517\n",
       "Germany                           1.828020\n",
       "Australia                         1.637906\n",
       "Russia                            1.491664\n",
       "Ukraine                           1.301550\n",
       "Nigeria                           1.228429\n",
       "Spain                             1.126060\n",
       "France                            1.096812\n",
       "Romania                           1.038315\n",
       "Netherlands (Holland, Europe)     0.950570\n",
       "Italy                             0.906698\n",
       "Serbia                            0.760456\n",
       "Philippines                       0.760456\n",
       "Greece                            0.672711\n",
       "Ireland                           0.628839\n",
       "South Africa                      0.570342\n",
       "Mexico                            0.541094\n",
       "Turkey                            0.526470\n",
       "Singapore                         0.497221\n",
       "Hungary                           0.497221\n",
       "New Zealand                       0.482597\n",
       "Argentina                         0.467973\n",
       "Croatia                           0.467973\n",
       "Norway                            0.453349\n",
       "Indonesia                         0.453349\n",
       "                                   ...    \n",
       "Cuba                              0.014624\n",
       "Bolivia                           0.014624\n",
       "Guadeloupe                        0.014624\n",
       "Jordan                            0.014624\n",
       "Cayman Islands                    0.014624\n",
       "Channel Islands                   0.014624\n",
       "Panama                            0.014624\n",
       "Mozambique                        0.014624\n",
       "Nicaragua                         0.014624\n",
       "Gambia                            0.014624\n",
       "Myanmar                           0.014624\n",
       "Angola                            0.014624\n",
       "Trinidad & Tobago                 0.014624\n",
       "Anguilla                          0.014624\n",
       "Somalia                           0.014624\n",
       "Botswana                          0.014624\n",
       "Guatemala                         0.014624\n",
       "Yemen                             0.014624\n",
       "Cameroon                          0.014624\n",
       "Sudan                             0.014624\n",
       "Nambia                            0.014624\n",
       "Gibraltar                         0.014624\n",
       "Kyrgyzstan                        0.014624\n",
       "Liberia                           0.014624\n",
       "Qatar                             0.014624\n",
       "Turkmenistan                      0.014624\n",
       "Rwanda                            0.014624\n",
       "Papua New Guinea                  0.014624\n",
       "Aruba                             0.014624\n",
       "Samoa                             0.014624\n",
       "Name: CountryLive, Length: 137, dtype: float64"
      ]
     },
     "execution_count": 47,
     "metadata": {},
     "output_type": "execute_result"
    }
   ],
   "source": [
    "job_role_interested[\"CountryLive\"].value_counts(normalize=True)*100"
   ]
  },
  {
   "cell_type": "code",
   "execution_count": 48,
   "metadata": {
    "collapsed": false
   },
   "outputs": [
    {
     "data": {
      "text/plain": [
       "United States of America         3125\n",
       "India                             528\n",
       "United Kingdom                    315\n",
       "Canada                            260\n",
       "Poland                            131\n",
       "Brazil                            129\n",
       "Germany                           125\n",
       "Australia                         112\n",
       "Russia                            102\n",
       "Ukraine                            89\n",
       "Nigeria                            84\n",
       "Spain                              77\n",
       "France                             75\n",
       "Romania                            71\n",
       "Netherlands (Holland, Europe)      65\n",
       "Italy                              62\n",
       "Serbia                             52\n",
       "Philippines                        52\n",
       "Greece                             46\n",
       "Ireland                            43\n",
       "South Africa                       39\n",
       "Mexico                             37\n",
       "Turkey                             36\n",
       "Singapore                          34\n",
       "Hungary                            34\n",
       "New Zealand                        33\n",
       "Argentina                          32\n",
       "Croatia                            32\n",
       "Norway                             31\n",
       "Indonesia                          31\n",
       "                                 ... \n",
       "Cuba                                1\n",
       "Bolivia                             1\n",
       "Guadeloupe                          1\n",
       "Jordan                              1\n",
       "Cayman Islands                      1\n",
       "Channel Islands                     1\n",
       "Panama                              1\n",
       "Mozambique                          1\n",
       "Nicaragua                           1\n",
       "Gambia                              1\n",
       "Myanmar                             1\n",
       "Angola                              1\n",
       "Trinidad & Tobago                   1\n",
       "Anguilla                            1\n",
       "Somalia                             1\n",
       "Botswana                            1\n",
       "Guatemala                           1\n",
       "Yemen                               1\n",
       "Cameroon                            1\n",
       "Sudan                               1\n",
       "Nambia                              1\n",
       "Gibraltar                           1\n",
       "Kyrgyzstan                          1\n",
       "Liberia                             1\n",
       "Qatar                               1\n",
       "Turkmenistan                        1\n",
       "Rwanda                              1\n",
       "Papua New Guinea                    1\n",
       "Aruba                               1\n",
       "Samoa                               1\n",
       "Name: CountryLive, Length: 137, dtype: int64"
      ]
     },
     "execution_count": 48,
     "metadata": {},
     "output_type": "execute_result"
    }
   ],
   "source": [
    "job_role_interested[\"CountryLive\"].value_counts()"
   ]
  },
  {
   "cell_type": "markdown",
   "metadata": {
    "collapsed": true
   },
   "source": [
    "From above frequencey_distibution values it understands that out of 6992 people 3125 people(45% people) are living in USA and india stands 2nd in position 528 people(7 %).The remaining 50% people lives in another 135 countries other than india and USA.IT seems that india and usa are best palces for marketing"
   ]
  },
  {
   "cell_type": "code",
   "execution_count": 49,
   "metadata": {
    "collapsed": false
   },
   "outputs": [
    {
     "data": {
      "text/plain": [
       "United States of America         1052\n",
       "India                             173\n",
       "United Kingdom                    106\n",
       "Canada                             88\n",
       "Brazil                             43\n",
       "Germany                            40\n",
       "Australia                          36\n",
       "Nigeria                            32\n",
       "Poland                             30\n",
       "Italy                              27\n",
       "Romania                            25\n",
       "Spain                              23\n",
       "Philippines                        21\n",
       "Ukraine                            20\n",
       "France                             18\n",
       "Russia                             18\n",
       "Greece                             18\n",
       "Serbia                             16\n",
       "Ireland                            15\n",
       "Turkey                             15\n",
       "Hungary                            14\n",
       "New Zealand                        14\n",
       "Singapore                          14\n",
       "Sweden                             13\n",
       "Croatia                            13\n",
       "Netherlands (Holland, Europe)      13\n",
       "Indonesia                          12\n",
       "Mexico                             12\n",
       "Czech Republic                     11\n",
       "Argentina                          11\n",
       "                                 ... \n",
       "Puerto Rico                         2\n",
       "Uganda                              2\n",
       "Dominican Republic                  2\n",
       "Luxembourg                          2\n",
       "Morocco                             2\n",
       "Lebanon                             2\n",
       "Azerbaijan                          2\n",
       "Latvia                              1\n",
       "Mozambique                          1\n",
       "Afghanistan                         1\n",
       "Iran                                1\n",
       "Iraq                                1\n",
       "Cayman Islands                      1\n",
       "Chile                               1\n",
       "Liberia                             1\n",
       "Iceland                             1\n",
       "Trinidad & Tobago                   1\n",
       "Zimbabwe                            1\n",
       "Costa Rica                          1\n",
       "Cambodia                            1\n",
       "Senegal                             1\n",
       "Yemen                               1\n",
       "Gambia                              1\n",
       "Georgia                             1\n",
       "Uruguay                             1\n",
       "Tunisia                             1\n",
       "Bahrain                             1\n",
       "Kyrgyzstan                          1\n",
       "Republic of Serbia                  1\n",
       "Ecuador                             1\n",
       "Name: CountryLive, Length: 105, dtype: int64"
      ]
     },
     "execution_count": 49,
     "metadata": {},
     "output_type": "execute_result"
    }
   ],
   "source": [
    "job_role_interested.loc[job_role_interested[\"JobRoleInterest\"].str.contains(\"Mobile\",na=False,regex=True),\"CountryLive\"].value_counts()"
   ]
  },
  {
   "cell_type": "markdown",
   "metadata": {},
   "source": [
    "# We can continue by gifuring out how much money new coders are actually willing to spend on learning.Advertising within markets where most people are willing to learn for free is extremely unlikely to be profitable for us"
   ]
  },
  {
   "cell_type": "markdown",
   "metadata": {},
   "source": [
    "The MoneyForLearning column describes in American dollars the amount of money spent by participants from the moment they started coding until the moment they completed the survey. Our company sells subscriptions at a price of $59 per month, and for this reason we're interested in finding out how much money each student spends per month."
   ]
  },
  {
   "cell_type": "markdown",
   "metadata": {},
   "source": [
    "It also seems like a good idea to narrow down our analysis to only four countries: the US, India, the United Kingdom, and Canada. Two reasons for this decision are:\n",
    "\n",
    "These are the countries having the highest absolute frequencies in our sample, which means we have a decent amount of data for each.\n",
    "Our courses are written in English, and English is an official language in all these four countries. The more people that know English, the better our chances to target the right people with our ads.\n"
   ]
  },
  {
   "cell_type": "code",
   "execution_count": 50,
   "metadata": {
    "collapsed": false
   },
   "outputs": [
    {
     "name": "stderr",
     "output_type": "stream",
     "text": [
      "/dataquest/system/env/python3/lib/python3.4/site-packages/pandas/core/generic.py:4619: SettingWithCopyWarning: \n",
      "A value is trying to be set on a copy of a slice from a DataFrame\n",
      "\n",
      "See the caveats in the documentation: http://pandas.pydata.org/pandas-docs/stable/indexing.html#indexing-view-versus-copy\n",
      "  self._update_inplace(new_data)\n"
     ]
    }
   ],
   "source": [
    "job_role_interested[\"MonthsProgramming\"].replace(0,1,inplace=True)"
   ]
  },
  {
   "cell_type": "markdown",
   "metadata": {
    "collapsed": true
   },
   "source": [
    "Some students answered that they had been learning to code for 0 months in MonthsProgramming (it might be that they had just started when they completed the survey). To avoid dividing by 0, replace all the values of 0 with 1.\n"
   ]
  },
  {
   "cell_type": "code",
   "execution_count": 51,
   "metadata": {
    "collapsed": false
   },
   "outputs": [
    {
     "name": "stderr",
     "output_type": "stream",
     "text": [
      "/dataquest/system/env/python3/lib/python3.4/site-packages/ipykernel/__main__.py:1: SettingWithCopyWarning: \n",
      "A value is trying to be set on a copy of a slice from a DataFrame.\n",
      "Try using .loc[row_indexer,col_indexer] = value instead\n",
      "\n",
      "See the caveats in the documentation: http://pandas.pydata.org/pandas-docs/stable/indexing.html#indexing-view-versus-copy\n",
      "  if __name__ == '__main__':\n"
     ]
    }
   ],
   "source": [
    "job_role_interested[\"MonthlySpent\"]=job_role_interested[\"MoneyForLearning\"]/job_role_interested[\"MonthsProgramming\"]"
   ]
  },
  {
   "cell_type": "code",
   "execution_count": 52,
   "metadata": {
    "collapsed": false
   },
   "outputs": [
    {
     "data": {
      "text/plain": [
       "1           13.333333\n",
       "2          200.000000\n",
       "3            0.000000\n",
       "4            0.000000\n",
       "6            0.000000\n",
       "9            5.555556\n",
       "11           0.000000\n",
       "13                NaN\n",
       "14                NaN\n",
       "15           0.000000\n",
       "16          16.666667\n",
       "18          35.714286\n",
       "19          17.857143\n",
       "21         100.000000\n",
       "22         285.714286\n",
       "23         100.000000\n",
       "28           2.416667\n",
       "29                NaN\n",
       "30          66.666667\n",
       "31           0.000000\n",
       "32         100.000000\n",
       "33          83.333333\n",
       "34                NaN\n",
       "35           0.000000\n",
       "37                NaN\n",
       "40          25.000000\n",
       "41           0.000000\n",
       "42          50.000000\n",
       "43           0.000000\n",
       "52           0.000000\n",
       "             ...     \n",
       "18080       25.000000\n",
       "18081             NaN\n",
       "18088      182.000000\n",
       "18089        0.000000\n",
       "18090        0.000000\n",
       "18093       27.777778\n",
       "18097        0.000000\n",
       "18098        1.222222\n",
       "18099     1000.000000\n",
       "18107      275.000000\n",
       "18111      200.000000\n",
       "18112        0.000000\n",
       "18113        0.000000\n",
       "18118        0.000000\n",
       "18125       28.571429\n",
       "18129             NaN\n",
       "18130        0.000000\n",
       "18131       16.666667\n",
       "18151        0.000000\n",
       "18153        0.000000\n",
       "18154      297.000000\n",
       "18155        0.000000\n",
       "18156     1000.000000\n",
       "18157        0.000000\n",
       "18160       33.333333\n",
       "18161        0.000000\n",
       "18162        0.000000\n",
       "18163             NaN\n",
       "18171    10000.000000\n",
       "18174             NaN\n",
       "Name: MonthlySpent, Length: 6992, dtype: float64"
      ]
     },
     "execution_count": 52,
     "metadata": {},
     "output_type": "execute_result"
    }
   ],
   "source": [
    "job_role_interested[\"MonthlySpent\"]"
   ]
  },
  {
   "cell_type": "code",
   "execution_count": 53,
   "metadata": {
    "collapsed": false
   },
   "outputs": [
    {
     "data": {
      "text/plain": [
       " 0.000000        3092\n",
       "NaN               675\n",
       " 50.000000        128\n",
       " 25.000000        120\n",
       " 16.666667        118\n",
       " 100.000000       118\n",
       " 33.333333        109\n",
       " 8.333333         105\n",
       " 20.000000         88\n",
       " 10.000000         83\n",
       " 83.333333         80\n",
       " 166.666667        67\n",
       " 12.500000         66\n",
       " 4.166667          65\n",
       " 5.000000          62\n",
       " 200.000000        53\n",
       " 500.000000        50\n",
       " 66.666667         47\n",
       " 41.666667         46\n",
       " 250.000000        44\n",
       " 1000.000000       43\n",
       " 3.333333          38\n",
       " 20.833333         37\n",
       " 125.000000        36\n",
       " 6.666667          35\n",
       " 2.500000          33\n",
       " 5.555556          31\n",
       " 150.000000        31\n",
       " 333.333333        31\n",
       " 11.111111         31\n",
       "                 ... \n",
       " 1.562500           1\n",
       " 29.000000          1\n",
       " 23.000000          1\n",
       " 19.000000          1\n",
       " 31.000000          1\n",
       " 3.625000           1\n",
       " 4.750000           1\n",
       " 92.000000          1\n",
       " 117.500000         1\n",
       " 4.687500           1\n",
       " 1142.857143        1\n",
       " 0.900000           1\n",
       " 866.666667         1\n",
       " 1.344086           1\n",
       " 1670.000000        1\n",
       " 4.857143           1\n",
       " 122.500000         1\n",
       " 370.000000         1\n",
       " 1.052632           1\n",
       " 1.818182           1\n",
       " 3.472222           1\n",
       " 1.190476           1\n",
       " 1.612903           1\n",
       " 7.777778           1\n",
       " 17.833333          1\n",
       " 3.076923           1\n",
       " 10.833333          1\n",
       " 30000.000000       1\n",
       " 312.500000         1\n",
       " 611.111111         1\n",
       "Name: MonthlySpent, Length: 494, dtype: int64"
      ]
     },
     "execution_count": 53,
     "metadata": {},
     "output_type": "execute_result"
    }
   ],
   "source": [
    "job_role_interested[\"MonthlySpent\"].value_counts(dropna=False)"
   ]
  },
  {
   "cell_type": "markdown",
   "metadata": {},
   "source": [
    "selecting only the rows that dont have a null value for the new column"
   ]
  },
  {
   "cell_type": "code",
   "execution_count": 54,
   "metadata": {
    "collapsed": true
   },
   "outputs": [],
   "source": [
    "job_role_interested=job_role_interested[job_role_interested[\"MonthlySpent\"].notna()]"
   ]
  },
  {
   "cell_type": "code",
   "execution_count": 55,
   "metadata": {
    "collapsed": false
   },
   "outputs": [
    {
     "data": {
      "text/plain": [
       "(6317, 137)"
      ]
     },
     "execution_count": 55,
     "metadata": {},
     "output_type": "execute_result"
    }
   ],
   "source": [
    "job_role_interested.shape"
   ]
  },
  {
   "cell_type": "markdown",
   "metadata": {},
   "source": [
    "# Remove also any rows that have null values in the CountryLive column.\n"
   ]
  },
  {
   "cell_type": "code",
   "execution_count": 56,
   "metadata": {
    "collapsed": true
   },
   "outputs": [],
   "source": [
    "job_role_interested=job_role_interested[job_role_interested[\"CountryLive\"].notna()]"
   ]
  },
  {
   "cell_type": "code",
   "execution_count": 57,
   "metadata": {
    "collapsed": false
   },
   "outputs": [
    {
     "data": {
      "text/plain": [
       "(6212, 137)"
      ]
     },
     "execution_count": 57,
     "metadata": {},
     "output_type": "execute_result"
    }
   ],
   "source": [
    "job_role_interested.shape"
   ]
  },
  {
   "cell_type": "code",
   "execution_count": 58,
   "metadata": {
    "collapsed": false
   },
   "outputs": [
    {
     "name": "stderr",
     "output_type": "stream",
     "text": [
      "/dataquest/system/env/python3/lib/python3.4/site-packages/pandas/core/groupby.py:4291: FutureWarning: using a dict with renaming is deprecated and will be removed in a future version\n",
      "  return super(DataFrameGroupBy, self).aggregate(arg, *args, **kwargs)\n"
     ]
    },
    {
     "data": {
      "text/html": [
       "<div>\n",
       "<style scoped>\n",
       "    .dataframe tbody tr th:only-of-type {\n",
       "        vertical-align: middle;\n",
       "    }\n",
       "\n",
       "    .dataframe tbody tr th {\n",
       "        vertical-align: top;\n",
       "    }\n",
       "\n",
       "    .dataframe thead tr th {\n",
       "        text-align: left;\n",
       "    }\n",
       "\n",
       "    .dataframe thead tr:last-of-type th {\n",
       "        text-align: right;\n",
       "    }\n",
       "</style>\n",
       "<table border=\"1\" class=\"dataframe\">\n",
       "  <thead>\n",
       "    <tr>\n",
       "      <th></th>\n",
       "      <th colspan=\"3\" halign=\"left\">MonthlySpent</th>\n",
       "    </tr>\n",
       "    <tr>\n",
       "      <th></th>\n",
       "      <th>median_value</th>\n",
       "      <th>average_monthly_spent</th>\n",
       "      <th>total_monthly_spent</th>\n",
       "    </tr>\n",
       "    <tr>\n",
       "      <th>CountryLive</th>\n",
       "      <th></th>\n",
       "      <th></th>\n",
       "      <th></th>\n",
       "    </tr>\n",
       "  </thead>\n",
       "  <tbody>\n",
       "    <tr>\n",
       "      <th>United States of America</th>\n",
       "      <td>3.333333</td>\n",
       "      <td>227.997996</td>\n",
       "      <td>668718.121808</td>\n",
       "    </tr>\n",
       "    <tr>\n",
       "      <th>India</th>\n",
       "      <td>0.000000</td>\n",
       "      <td>135.100982</td>\n",
       "      <td>62551.754651</td>\n",
       "    </tr>\n",
       "    <tr>\n",
       "      <th>United Kingdom</th>\n",
       "      <td>0.000000</td>\n",
       "      <td>45.534443</td>\n",
       "      <td>12704.109639</td>\n",
       "    </tr>\n",
       "    <tr>\n",
       "      <th>Canada</th>\n",
       "      <td>0.000000</td>\n",
       "      <td>113.510961</td>\n",
       "      <td>27242.630637</td>\n",
       "    </tr>\n",
       "  </tbody>\n",
       "</table>\n",
       "</div>"
      ],
      "text/plain": [
       "                         MonthlySpent                        \\\n",
       "                         median_value average_monthly_spent   \n",
       "CountryLive                                                   \n",
       "United States of America     3.333333            227.997996   \n",
       "India                        0.000000            135.100982   \n",
       "United Kingdom               0.000000             45.534443   \n",
       "Canada                       0.000000            113.510961   \n",
       "\n",
       "                                              \n",
       "                         total_monthly_spent  \n",
       "CountryLive                                   \n",
       "United States of America       668718.121808  \n",
       "India                           62551.754651  \n",
       "United Kingdom                  12704.109639  \n",
       "Canada                          27242.630637  "
      ]
     },
     "execution_count": 58,
     "metadata": {},
     "output_type": "execute_result"
    }
   ],
   "source": [
    "aggregations = {\n",
    "    'MonthlySpent': { # work on the \"duration\" column\n",
    "        'total_monthly_spent': 'sum',  # get the sum, and call this result 'total_duration'\n",
    "        'average_monthly_spent': 'mean', # get mean, call result 'average_duration'\n",
    "        'median_value': 'median'\n",
    "    }\n",
    "}\n",
    "\n",
    "\n",
    "countries_mean=job_role_interested.groupby(\"CountryLive\").agg(aggregations)\n",
    "#cols=[\"United States of America\",\"Inida\",\"United Kingdom\",\"Canada\"]\n",
    "#grouped_country[grouped_country[\"CountryLive\"][cols]]\n",
    "#country_means[\"MonthlySpent\"][['United States of America','India','United Kingdom','Canada']]\n",
    "countries_mean.loc[['United States of America',\n",
    "                            'India', 'United Kingdom',\n",
    "                            'Canada']]\n"
   ]
  },
  {
   "cell_type": "markdown",
   "metadata": {},
   "source": [
    "The results for the United Kingdom and Canada are a bit surprising relative to the values we see for India. If we considered a few socio-economical metrics (like GDP per capita), we'd intuitively expect people in the UK and Canada to spend more on learning than people in India.\n",
    "\n",
    "It might be that we don't have have enough representative data for the United Kingdom and Canada, or we have some outliers (maybe coming from wrong survey answers) making the mean too large for India, or too low for the UK and Canada. Or it might be that the results are correct.\n",
    "\n"
   ]
  },
  {
   "cell_type": "markdown",
   "metadata": {},
   "source": [
    "# Dealing with Extreme Outliers¶\n",
    "Let's use box plots to visualize the distribution of the money_per_month variable for each country.\n",
    "\n"
   ]
  },
  {
   "cell_type": "code",
   "execution_count": 59,
   "metadata": {
    "collapsed": true
   },
   "outputs": [],
   "source": [
    "four_countries=job_role_interested[job_role_interested[\"CountryLive\"].str.contains('United States of America|India|United Kingdom|Canada')]"
   ]
  },
  {
   "cell_type": "code",
   "execution_count": 60,
   "metadata": {
    "collapsed": false
   },
   "outputs": [
    {
     "name": "stderr",
     "output_type": "stream",
     "text": [
      "/dataquest/system/env/python3/lib/python3.4/site-packages/seaborn/categorical.py:454: FutureWarning: remove_na is deprecated and is a private function. Do not use.\n",
      "  box_data = remove_na(group_data)\n"
     ]
    },
    {
     "data": {
      "image/png": "[encoded data removed]",
      "text/plain": [
       "<matplotlib.figure.Figure at 0x7f46f1e31a20>"
      ]
     },
     "metadata": {},
     "output_type": "display_data"
    }
   ],
   "source": [
    "import seaborn as sns\n",
    "plt.style.use(\"fivethirtyeight\")\n",
    "sns.boxplot(x=\"CountryLive\",y=\"MonthlySpent\",data=four_countries)\n",
    "plt.title('Money Spent Per Month Per Country\\n(Distributions)',\n",
    "         fontsize = 16)\n",
    "plt.ylabel('Money per month (US dollars)')\n",
    "plt.xlabel('Country')\n",
    "plt.show()"
   ]
  },
  {
   "cell_type": "markdown",
   "metadata": {},
   "source": [
    "It's hard to see on the plot above if there's anything wrong with the data for the United Kingdom, India, or Canada, but we can see immediately that there's something really off for the US: two persons spend each month \\$50000 or more for learning. This is not impossible, but it seems extremely unlikely, so we'll remove every value that goes over \\$20,000 per month.\n",
    "\n"
   ]
  },
  {
   "cell_type": "code",
   "execution_count": 61,
   "metadata": {
    "collapsed": true
   },
   "outputs": [],
   "source": [
    "job_role_interested=job_role_interested[job_role_interested[\"MonthlySpent\"]<20000]"
   ]
  },
  {
   "cell_type": "code",
   "execution_count": 62,
   "metadata": {
    "collapsed": false
   },
   "outputs": [
    {
     "name": "stderr",
     "output_type": "stream",
     "text": [
      "/dataquest/system/env/python3/lib/python3.4/site-packages/pandas/core/groupby.py:4291: FutureWarning: using a dict with renaming is deprecated and will be removed in a future version\n",
      "  return super(DataFrameGroupBy, self).aggregate(arg, *args, **kwargs)\n"
     ]
    },
    {
     "data": {
      "text/html": [
       "<div>\n",
       "<style scoped>\n",
       "    .dataframe tbody tr th:only-of-type {\n",
       "        vertical-align: middle;\n",
       "    }\n",
       "\n",
       "    .dataframe tbody tr th {\n",
       "        vertical-align: top;\n",
       "    }\n",
       "\n",
       "    .dataframe thead tr th {\n",
       "        text-align: left;\n",
       "    }\n",
       "\n",
       "    .dataframe thead tr:last-of-type th {\n",
       "        text-align: right;\n",
       "    }\n",
       "</style>\n",
       "<table border=\"1\" class=\"dataframe\">\n",
       "  <thead>\n",
       "    <tr>\n",
       "      <th></th>\n",
       "      <th colspan=\"3\" halign=\"left\">MonthlySpent</th>\n",
       "    </tr>\n",
       "    <tr>\n",
       "      <th></th>\n",
       "      <th>median_value</th>\n",
       "      <th>average_monthly_spent</th>\n",
       "      <th>total_monthly_spent</th>\n",
       "    </tr>\n",
       "    <tr>\n",
       "      <th>CountryLive</th>\n",
       "      <th></th>\n",
       "      <th></th>\n",
       "      <th></th>\n",
       "    </tr>\n",
       "  </thead>\n",
       "  <tbody>\n",
       "    <tr>\n",
       "      <th>United States of America</th>\n",
       "      <td>3.333333</td>\n",
       "      <td>183.800110</td>\n",
       "      <td>538718.121808</td>\n",
       "    </tr>\n",
       "    <tr>\n",
       "      <th>India</th>\n",
       "      <td>0.000000</td>\n",
       "      <td>135.100982</td>\n",
       "      <td>62551.754651</td>\n",
       "    </tr>\n",
       "    <tr>\n",
       "      <th>United Kingdom</th>\n",
       "      <td>0.000000</td>\n",
       "      <td>45.534443</td>\n",
       "      <td>12704.109639</td>\n",
       "    </tr>\n",
       "    <tr>\n",
       "      <th>Canada</th>\n",
       "      <td>0.000000</td>\n",
       "      <td>113.510961</td>\n",
       "      <td>27242.630637</td>\n",
       "    </tr>\n",
       "  </tbody>\n",
       "</table>\n",
       "</div>"
      ],
      "text/plain": [
       "                         MonthlySpent                        \\\n",
       "                         median_value average_monthly_spent   \n",
       "CountryLive                                                   \n",
       "United States of America     3.333333            183.800110   \n",
       "India                        0.000000            135.100982   \n",
       "United Kingdom               0.000000             45.534443   \n",
       "Canada                       0.000000            113.510961   \n",
       "\n",
       "                                              \n",
       "                         total_monthly_spent  \n",
       "CountryLive                                   \n",
       "United States of America       538718.121808  \n",
       "India                           62551.754651  \n",
       "United Kingdom                  12704.109639  \n",
       "Canada                          27242.630637  "
      ]
     },
     "execution_count": 62,
     "metadata": {},
     "output_type": "execute_result"
    }
   ],
   "source": [
    "\n",
    "countries_mean=job_role_interested.groupby(\"CountryLive\").agg(aggregations)\n",
    "#cols=[\"United States of America\",\"Inida\",\"United Kingdom\",\"Canada\"]\n",
    "#grouped_country[grouped_country[\"CountryLive\"][cols]]\n",
    "#country_means[\"MonthlySpent\"][['United States of America','India','United Kingdom','Canada']]\n",
    "countries_mean.loc[['United States of America',\n",
    "                            'India', 'United Kingdom',\n",
    "                            'Canada']]\n"
   ]
  },
  {
   "cell_type": "code",
   "execution_count": 63,
   "metadata": {
    "collapsed": true
   },
   "outputs": [],
   "source": [
    "four_countries=job_role_interested[job_role_interested[\"CountryLive\"].str.contains('United States of America|India|United Kingdom|Canada')]"
   ]
  },
  {
   "cell_type": "code",
   "execution_count": 64,
   "metadata": {
    "collapsed": false
   },
   "outputs": [
    {
     "name": "stderr",
     "output_type": "stream",
     "text": [
      "/dataquest/system/env/python3/lib/python3.4/site-packages/seaborn/categorical.py:454: FutureWarning: remove_na is deprecated and is a private function. Do not use.\n",
      "  box_data = remove_na(group_data)\n"
     ]
    },
    {
     "data": {
      "image/png": "[encoded data removed]",
      "text/plain": [
       "<matplotlib.figure.Figure at 0x7f466d7f3630>"
      ]
     },
     "metadata": {},
     "output_type": "display_data"
    }
   ],
   "source": [
    "import seaborn as sns\n",
    "plt.style.use(\"fivethirtyeight\")\n",
    "sns.boxplot(x=\"CountryLive\",y=\"MonthlySpent\",data=four_countries)\n",
    "plt.title('Money Spent Per Month Per Country\\n(Distributions)',\n",
    "         fontsize = 16)\n",
    "plt.ylabel('Money per month (US dollars)')\n",
    "plt.xlabel('Country')\n",
    "plt.show()"
   ]
  },
  {
   "cell_type": "markdown",
   "metadata": {},
   "source": [
    "We can see a few extreme outliers for India (values over \\$2500 per month), but it's unclear whether this is good data or not. Maybe these persons attended several bootcamps, which tend to be very expensive. Let's examine these two data points to see if we can find anything relevant.\n",
    "\n"
   ]
  },
  {
   "cell_type": "code",
   "execution_count": 65,
   "metadata": {
    "collapsed": false
   },
   "outputs": [
    {
     "data": {
      "text/html": [
       "<div>\n",
       "<style scoped>\n",
       "    .dataframe tbody tr th:only-of-type {\n",
       "        vertical-align: middle;\n",
       "    }\n",
       "\n",
       "    .dataframe tbody tr th {\n",
       "        vertical-align: top;\n",
       "    }\n",
       "\n",
       "    .dataframe thead th {\n",
       "        text-align: right;\n",
       "    }\n",
       "</style>\n",
       "<table border=\"1\" class=\"dataframe\">\n",
       "  <thead>\n",
       "    <tr style=\"text-align: right;\">\n",
       "      <th></th>\n",
       "      <th>Age</th>\n",
       "      <th>AttendedBootcamp</th>\n",
       "      <th>BootcampFinish</th>\n",
       "      <th>BootcampLoanYesNo</th>\n",
       "      <th>BootcampName</th>\n",
       "      <th>BootcampRecommend</th>\n",
       "      <th>ChildrenNumber</th>\n",
       "      <th>CityPopulation</th>\n",
       "      <th>CodeEventConferences</th>\n",
       "      <th>CodeEventDjangoGirls</th>\n",
       "      <th>...</th>\n",
       "      <th>YouTubeFunFunFunction</th>\n",
       "      <th>YouTubeGoogleDev</th>\n",
       "      <th>YouTubeLearnCode</th>\n",
       "      <th>YouTubeLevelUpTuts</th>\n",
       "      <th>YouTubeMIT</th>\n",
       "      <th>YouTubeMozillaHacks</th>\n",
       "      <th>YouTubeOther</th>\n",
       "      <th>YouTubeSimplilearn</th>\n",
       "      <th>YouTubeTheNewBoston</th>\n",
       "      <th>MonthlySpent</th>\n",
       "    </tr>\n",
       "  </thead>\n",
       "  <tbody>\n",
       "    <tr>\n",
       "      <th>1728</th>\n",
       "      <td>24.0</td>\n",
       "      <td>0.0</td>\n",
       "      <td>NaN</td>\n",
       "      <td>NaN</td>\n",
       "      <td>NaN</td>\n",
       "      <td>NaN</td>\n",
       "      <td>NaN</td>\n",
       "      <td>between 100,000 and 1 million</td>\n",
       "      <td>NaN</td>\n",
       "      <td>NaN</td>\n",
       "      <td>...</td>\n",
       "      <td>NaN</td>\n",
       "      <td>NaN</td>\n",
       "      <td>NaN</td>\n",
       "      <td>NaN</td>\n",
       "      <td>NaN</td>\n",
       "      <td>NaN</td>\n",
       "      <td>NaN</td>\n",
       "      <td>NaN</td>\n",
       "      <td>NaN</td>\n",
       "      <td>5000.000000</td>\n",
       "    </tr>\n",
       "    <tr>\n",
       "      <th>1755</th>\n",
       "      <td>20.0</td>\n",
       "      <td>0.0</td>\n",
       "      <td>NaN</td>\n",
       "      <td>NaN</td>\n",
       "      <td>NaN</td>\n",
       "      <td>NaN</td>\n",
       "      <td>NaN</td>\n",
       "      <td>more than 1 million</td>\n",
       "      <td>NaN</td>\n",
       "      <td>NaN</td>\n",
       "      <td>...</td>\n",
       "      <td>NaN</td>\n",
       "      <td>NaN</td>\n",
       "      <td>1.0</td>\n",
       "      <td>NaN</td>\n",
       "      <td>1.0</td>\n",
       "      <td>NaN</td>\n",
       "      <td>NaN</td>\n",
       "      <td>NaN</td>\n",
       "      <td>NaN</td>\n",
       "      <td>3333.333333</td>\n",
       "    </tr>\n",
       "    <tr>\n",
       "      <th>7989</th>\n",
       "      <td>28.0</td>\n",
       "      <td>0.0</td>\n",
       "      <td>NaN</td>\n",
       "      <td>NaN</td>\n",
       "      <td>NaN</td>\n",
       "      <td>NaN</td>\n",
       "      <td>NaN</td>\n",
       "      <td>between 100,000 and 1 million</td>\n",
       "      <td>1.0</td>\n",
       "      <td>NaN</td>\n",
       "      <td>...</td>\n",
       "      <td>NaN</td>\n",
       "      <td>NaN</td>\n",
       "      <td>NaN</td>\n",
       "      <td>NaN</td>\n",
       "      <td>NaN</td>\n",
       "      <td>NaN</td>\n",
       "      <td>NaN</td>\n",
       "      <td>NaN</td>\n",
       "      <td>NaN</td>\n",
       "      <td>5000.000000</td>\n",
       "    </tr>\n",
       "    <tr>\n",
       "      <th>8126</th>\n",
       "      <td>22.0</td>\n",
       "      <td>0.0</td>\n",
       "      <td>NaN</td>\n",
       "      <td>NaN</td>\n",
       "      <td>NaN</td>\n",
       "      <td>NaN</td>\n",
       "      <td>NaN</td>\n",
       "      <td>more than 1 million</td>\n",
       "      <td>NaN</td>\n",
       "      <td>NaN</td>\n",
       "      <td>...</td>\n",
       "      <td>NaN</td>\n",
       "      <td>1.0</td>\n",
       "      <td>NaN</td>\n",
       "      <td>NaN</td>\n",
       "      <td>1.0</td>\n",
       "      <td>NaN</td>\n",
       "      <td>NaN</td>\n",
       "      <td>NaN</td>\n",
       "      <td>1.0</td>\n",
       "      <td>5000.000000</td>\n",
       "    </tr>\n",
       "    <tr>\n",
       "      <th>13398</th>\n",
       "      <td>19.0</td>\n",
       "      <td>0.0</td>\n",
       "      <td>NaN</td>\n",
       "      <td>NaN</td>\n",
       "      <td>NaN</td>\n",
       "      <td>NaN</td>\n",
       "      <td>NaN</td>\n",
       "      <td>more than 1 million</td>\n",
       "      <td>NaN</td>\n",
       "      <td>NaN</td>\n",
       "      <td>...</td>\n",
       "      <td>NaN</td>\n",
       "      <td>NaN</td>\n",
       "      <td>NaN</td>\n",
       "      <td>NaN</td>\n",
       "      <td>NaN</td>\n",
       "      <td>NaN</td>\n",
       "      <td>NaN</td>\n",
       "      <td>NaN</td>\n",
       "      <td>NaN</td>\n",
       "      <td>10000.000000</td>\n",
       "    </tr>\n",
       "    <tr>\n",
       "      <th>15587</th>\n",
       "      <td>27.0</td>\n",
       "      <td>0.0</td>\n",
       "      <td>NaN</td>\n",
       "      <td>NaN</td>\n",
       "      <td>NaN</td>\n",
       "      <td>NaN</td>\n",
       "      <td>NaN</td>\n",
       "      <td>more than 1 million</td>\n",
       "      <td>NaN</td>\n",
       "      <td>NaN</td>\n",
       "      <td>...</td>\n",
       "      <td>NaN</td>\n",
       "      <td>1.0</td>\n",
       "      <td>1.0</td>\n",
       "      <td>NaN</td>\n",
       "      <td>1.0</td>\n",
       "      <td>NaN</td>\n",
       "      <td>NaN</td>\n",
       "      <td>NaN</td>\n",
       "      <td>NaN</td>\n",
       "      <td>4166.666667</td>\n",
       "    </tr>\n",
       "  </tbody>\n",
       "</table>\n",
       "<p>6 rows × 137 columns</p>\n",
       "</div>"
      ],
      "text/plain": [
       "        Age  AttendedBootcamp  BootcampFinish  BootcampLoanYesNo BootcampName  \\\n",
       "1728   24.0               0.0             NaN                NaN          NaN   \n",
       "1755   20.0               0.0             NaN                NaN          NaN   \n",
       "7989   28.0               0.0             NaN                NaN          NaN   \n",
       "8126   22.0               0.0             NaN                NaN          NaN   \n",
       "13398  19.0               0.0             NaN                NaN          NaN   \n",
       "15587  27.0               0.0             NaN                NaN          NaN   \n",
       "\n",
       "       BootcampRecommend  ChildrenNumber                 CityPopulation  \\\n",
       "1728                 NaN             NaN  between 100,000 and 1 million   \n",
       "1755                 NaN             NaN            more than 1 million   \n",
       "7989                 NaN             NaN  between 100,000 and 1 million   \n",
       "8126                 NaN             NaN            more than 1 million   \n",
       "13398                NaN             NaN            more than 1 million   \n",
       "15587                NaN             NaN            more than 1 million   \n",
       "\n",
       "       CodeEventConferences  CodeEventDjangoGirls      ...       \\\n",
       "1728                    NaN                   NaN      ...        \n",
       "1755                    NaN                   NaN      ...        \n",
       "7989                    1.0                   NaN      ...        \n",
       "8126                    NaN                   NaN      ...        \n",
       "13398                   NaN                   NaN      ...        \n",
       "15587                   NaN                   NaN      ...        \n",
       "\n",
       "       YouTubeFunFunFunction  YouTubeGoogleDev  YouTubeLearnCode  \\\n",
       "1728                     NaN               NaN               NaN   \n",
       "1755                     NaN               NaN               1.0   \n",
       "7989                     NaN               NaN               NaN   \n",
       "8126                     NaN               1.0               NaN   \n",
       "13398                    NaN               NaN               NaN   \n",
       "15587                    NaN               1.0               1.0   \n",
       "\n",
       "       YouTubeLevelUpTuts  YouTubeMIT  YouTubeMozillaHacks  YouTubeOther  \\\n",
       "1728                  NaN         NaN                  NaN           NaN   \n",
       "1755                  NaN         1.0                  NaN           NaN   \n",
       "7989                  NaN         NaN                  NaN           NaN   \n",
       "8126                  NaN         1.0                  NaN           NaN   \n",
       "13398                 NaN         NaN                  NaN           NaN   \n",
       "15587                 NaN         1.0                  NaN           NaN   \n",
       "\n",
       "      YouTubeSimplilearn  YouTubeTheNewBoston  MonthlySpent  \n",
       "1728                 NaN                  NaN   5000.000000  \n",
       "1755                 NaN                  NaN   3333.333333  \n",
       "7989                 NaN                  NaN   5000.000000  \n",
       "8126                 NaN                  1.0   5000.000000  \n",
       "13398                NaN                  NaN  10000.000000  \n",
       "15587                NaN                  NaN   4166.666667  \n",
       "\n",
       "[6 rows x 137 columns]"
      ]
     },
     "execution_count": 65,
     "metadata": {},
     "output_type": "execute_result"
    }
   ],
   "source": [
    "# Inspect the extreme outliers for India\n",
    "india_outliers = four_countries[\n",
    "    (four_countries['CountryLive'] == 'India') & \n",
    "    (four_countries['MonthlySpent'] >= 2500)]\n",
    "india_outliers\n"
   ]
  },
  {
   "cell_type": "markdown",
   "metadata": {},
   "source": [
    "It seems that neither participant attended a bootcamp. Overall, it's really hard to figure out from the data whether these persons really spent that much money with learning. The actual question of the survey was \"Aside from university tuition, about how much money have you spent on learning to code so far (in US dollars)?\", so they might have misunderstood and thought university tuition is included. It seems safer to remove these two rows.\n",
    "\n"
   ]
  },
  {
   "cell_type": "code",
   "execution_count": 66,
   "metadata": {
    "collapsed": false
   },
   "outputs": [
    {
     "data": {
      "text/plain": [
       "Int64Index([1728, 1755, 7989, 8126, 13398, 15587], dtype='int64')"
      ]
     },
     "execution_count": 66,
     "metadata": {},
     "output_type": "execute_result"
    }
   ],
   "source": [
    "india_outliers.index"
   ]
  },
  {
   "cell_type": "code",
   "execution_count": 67,
   "metadata": {
    "collapsed": true
   },
   "outputs": [],
   "source": [
    "\n",
    "# Remove the outliers for India\n",
    "four_countries = four_countries.drop(index=india_outliers.index) # using the row labels\n"
   ]
  },
  {
   "cell_type": "markdown",
   "metadata": {},
   "source": [
    "Looking back at the box plot above, we can also see more extreme outliers for the US (values over \\$6000 per month). Let's examine these participants in more detail.\n",
    "\n"
   ]
  },
  {
   "cell_type": "code",
   "execution_count": 69,
   "metadata": {
    "collapsed": false
   },
   "outputs": [
    {
     "data": {
      "text/html": [
       "<div>\n",
       "<style scoped>\n",
       "    .dataframe tbody tr th:only-of-type {\n",
       "        vertical-align: middle;\n",
       "    }\n",
       "\n",
       "    .dataframe tbody tr th {\n",
       "        vertical-align: top;\n",
       "    }\n",
       "\n",
       "    .dataframe thead th {\n",
       "        text-align: right;\n",
       "    }\n",
       "</style>\n",
       "<table border=\"1\" class=\"dataframe\">\n",
       "  <thead>\n",
       "    <tr style=\"text-align: right;\">\n",
       "      <th></th>\n",
       "      <th>Age</th>\n",
       "      <th>AttendedBootcamp</th>\n",
       "      <th>BootcampFinish</th>\n",
       "      <th>BootcampLoanYesNo</th>\n",
       "      <th>BootcampName</th>\n",
       "      <th>BootcampRecommend</th>\n",
       "      <th>ChildrenNumber</th>\n",
       "      <th>CityPopulation</th>\n",
       "      <th>CodeEventConferences</th>\n",
       "      <th>CodeEventDjangoGirls</th>\n",
       "      <th>...</th>\n",
       "      <th>YouTubeFunFunFunction</th>\n",
       "      <th>YouTubeGoogleDev</th>\n",
       "      <th>YouTubeLearnCode</th>\n",
       "      <th>YouTubeLevelUpTuts</th>\n",
       "      <th>YouTubeMIT</th>\n",
       "      <th>YouTubeMozillaHacks</th>\n",
       "      <th>YouTubeOther</th>\n",
       "      <th>YouTubeSimplilearn</th>\n",
       "      <th>YouTubeTheNewBoston</th>\n",
       "      <th>MonthlySpent</th>\n",
       "    </tr>\n",
       "  </thead>\n",
       "  <tbody>\n",
       "    <tr>\n",
       "      <th>718</th>\n",
       "      <td>26.0</td>\n",
       "      <td>1.0</td>\n",
       "      <td>0.0</td>\n",
       "      <td>0.0</td>\n",
       "      <td>The Coding Boot Camp at UCLA Extension</td>\n",
       "      <td>1.0</td>\n",
       "      <td>NaN</td>\n",
       "      <td>more than 1 million</td>\n",
       "      <td>1.0</td>\n",
       "      <td>NaN</td>\n",
       "      <td>...</td>\n",
       "      <td>NaN</td>\n",
       "      <td>NaN</td>\n",
       "      <td>NaN</td>\n",
       "      <td>NaN</td>\n",
       "      <td>NaN</td>\n",
       "      <td>NaN</td>\n",
       "      <td>NaN</td>\n",
       "      <td>NaN</td>\n",
       "      <td>NaN</td>\n",
       "      <td>8000.000000</td>\n",
       "    </tr>\n",
       "    <tr>\n",
       "      <th>1222</th>\n",
       "      <td>32.0</td>\n",
       "      <td>1.0</td>\n",
       "      <td>0.0</td>\n",
       "      <td>0.0</td>\n",
       "      <td>The Iron Yard</td>\n",
       "      <td>1.0</td>\n",
       "      <td>NaN</td>\n",
       "      <td>between 100,000 and 1 million</td>\n",
       "      <td>NaN</td>\n",
       "      <td>NaN</td>\n",
       "      <td>...</td>\n",
       "      <td>NaN</td>\n",
       "      <td>NaN</td>\n",
       "      <td>1.0</td>\n",
       "      <td>NaN</td>\n",
       "      <td>NaN</td>\n",
       "      <td>NaN</td>\n",
       "      <td>NaN</td>\n",
       "      <td>NaN</td>\n",
       "      <td>NaN</td>\n",
       "      <td>6500.000000</td>\n",
       "    </tr>\n",
       "    <tr>\n",
       "      <th>3184</th>\n",
       "      <td>34.0</td>\n",
       "      <td>1.0</td>\n",
       "      <td>1.0</td>\n",
       "      <td>0.0</td>\n",
       "      <td>We Can Code IT</td>\n",
       "      <td>1.0</td>\n",
       "      <td>NaN</td>\n",
       "      <td>more than 1 million</td>\n",
       "      <td>NaN</td>\n",
       "      <td>NaN</td>\n",
       "      <td>...</td>\n",
       "      <td>NaN</td>\n",
       "      <td>NaN</td>\n",
       "      <td>NaN</td>\n",
       "      <td>NaN</td>\n",
       "      <td>NaN</td>\n",
       "      <td>NaN</td>\n",
       "      <td>NaN</td>\n",
       "      <td>NaN</td>\n",
       "      <td>NaN</td>\n",
       "      <td>9000.000000</td>\n",
       "    </tr>\n",
       "    <tr>\n",
       "      <th>3930</th>\n",
       "      <td>31.0</td>\n",
       "      <td>0.0</td>\n",
       "      <td>NaN</td>\n",
       "      <td>NaN</td>\n",
       "      <td>NaN</td>\n",
       "      <td>NaN</td>\n",
       "      <td>NaN</td>\n",
       "      <td>between 100,000 and 1 million</td>\n",
       "      <td>NaN</td>\n",
       "      <td>NaN</td>\n",
       "      <td>...</td>\n",
       "      <td>1.0</td>\n",
       "      <td>1.0</td>\n",
       "      <td>1.0</td>\n",
       "      <td>1.0</td>\n",
       "      <td>1.0</td>\n",
       "      <td>NaN</td>\n",
       "      <td>various conf presentations</td>\n",
       "      <td>NaN</td>\n",
       "      <td>NaN</td>\n",
       "      <td>10833.333333</td>\n",
       "    </tr>\n",
       "    <tr>\n",
       "      <th>6805</th>\n",
       "      <td>46.0</td>\n",
       "      <td>1.0</td>\n",
       "      <td>1.0</td>\n",
       "      <td>1.0</td>\n",
       "      <td>Sabio.la</td>\n",
       "      <td>0.0</td>\n",
       "      <td>NaN</td>\n",
       "      <td>between 100,000 and 1 million</td>\n",
       "      <td>NaN</td>\n",
       "      <td>NaN</td>\n",
       "      <td>...</td>\n",
       "      <td>NaN</td>\n",
       "      <td>NaN</td>\n",
       "      <td>NaN</td>\n",
       "      <td>NaN</td>\n",
       "      <td>NaN</td>\n",
       "      <td>NaN</td>\n",
       "      <td>NaN</td>\n",
       "      <td>NaN</td>\n",
       "      <td>NaN</td>\n",
       "      <td>15000.000000</td>\n",
       "    </tr>\n",
       "    <tr>\n",
       "      <th>7198</th>\n",
       "      <td>32.0</td>\n",
       "      <td>0.0</td>\n",
       "      <td>NaN</td>\n",
       "      <td>NaN</td>\n",
       "      <td>NaN</td>\n",
       "      <td>NaN</td>\n",
       "      <td>NaN</td>\n",
       "      <td>more than 1 million</td>\n",
       "      <td>1.0</td>\n",
       "      <td>NaN</td>\n",
       "      <td>...</td>\n",
       "      <td>NaN</td>\n",
       "      <td>1.0</td>\n",
       "      <td>1.0</td>\n",
       "      <td>1.0</td>\n",
       "      <td>NaN</td>\n",
       "      <td>NaN</td>\n",
       "      <td>NaN</td>\n",
       "      <td>NaN</td>\n",
       "      <td>NaN</td>\n",
       "      <td>14000.000000</td>\n",
       "    </tr>\n",
       "    <tr>\n",
       "      <th>7505</th>\n",
       "      <td>26.0</td>\n",
       "      <td>1.0</td>\n",
       "      <td>0.0</td>\n",
       "      <td>1.0</td>\n",
       "      <td>Codeup</td>\n",
       "      <td>0.0</td>\n",
       "      <td>NaN</td>\n",
       "      <td>more than 1 million</td>\n",
       "      <td>NaN</td>\n",
       "      <td>NaN</td>\n",
       "      <td>...</td>\n",
       "      <td>NaN</td>\n",
       "      <td>NaN</td>\n",
       "      <td>NaN</td>\n",
       "      <td>NaN</td>\n",
       "      <td>1.0</td>\n",
       "      <td>NaN</td>\n",
       "      <td>NaN</td>\n",
       "      <td>NaN</td>\n",
       "      <td>NaN</td>\n",
       "      <td>6666.666667</td>\n",
       "    </tr>\n",
       "    <tr>\n",
       "      <th>9778</th>\n",
       "      <td>33.0</td>\n",
       "      <td>1.0</td>\n",
       "      <td>0.0</td>\n",
       "      <td>1.0</td>\n",
       "      <td>Grand Circus</td>\n",
       "      <td>1.0</td>\n",
       "      <td>NaN</td>\n",
       "      <td>between 100,000 and 1 million</td>\n",
       "      <td>NaN</td>\n",
       "      <td>NaN</td>\n",
       "      <td>...</td>\n",
       "      <td>NaN</td>\n",
       "      <td>NaN</td>\n",
       "      <td>NaN</td>\n",
       "      <td>NaN</td>\n",
       "      <td>NaN</td>\n",
       "      <td>NaN</td>\n",
       "      <td>NaN</td>\n",
       "      <td>NaN</td>\n",
       "      <td>NaN</td>\n",
       "      <td>8000.000000</td>\n",
       "    </tr>\n",
       "    <tr>\n",
       "      <th>16650</th>\n",
       "      <td>29.0</td>\n",
       "      <td>0.0</td>\n",
       "      <td>NaN</td>\n",
       "      <td>NaN</td>\n",
       "      <td>NaN</td>\n",
       "      <td>NaN</td>\n",
       "      <td>2.0</td>\n",
       "      <td>more than 1 million</td>\n",
       "      <td>NaN</td>\n",
       "      <td>NaN</td>\n",
       "      <td>...</td>\n",
       "      <td>NaN</td>\n",
       "      <td>NaN</td>\n",
       "      <td>NaN</td>\n",
       "      <td>NaN</td>\n",
       "      <td>NaN</td>\n",
       "      <td>NaN</td>\n",
       "      <td>NaN</td>\n",
       "      <td>NaN</td>\n",
       "      <td>1.0</td>\n",
       "      <td>16666.666667</td>\n",
       "    </tr>\n",
       "    <tr>\n",
       "      <th>16997</th>\n",
       "      <td>27.0</td>\n",
       "      <td>0.0</td>\n",
       "      <td>NaN</td>\n",
       "      <td>NaN</td>\n",
       "      <td>NaN</td>\n",
       "      <td>NaN</td>\n",
       "      <td>1.0</td>\n",
       "      <td>more than 1 million</td>\n",
       "      <td>NaN</td>\n",
       "      <td>NaN</td>\n",
       "      <td>...</td>\n",
       "      <td>NaN</td>\n",
       "      <td>NaN</td>\n",
       "      <td>NaN</td>\n",
       "      <td>NaN</td>\n",
       "      <td>NaN</td>\n",
       "      <td>NaN</td>\n",
       "      <td>NaN</td>\n",
       "      <td>NaN</td>\n",
       "      <td>NaN</td>\n",
       "      <td>12500.000000</td>\n",
       "    </tr>\n",
       "    <tr>\n",
       "      <th>17231</th>\n",
       "      <td>50.0</td>\n",
       "      <td>0.0</td>\n",
       "      <td>NaN</td>\n",
       "      <td>NaN</td>\n",
       "      <td>NaN</td>\n",
       "      <td>NaN</td>\n",
       "      <td>2.0</td>\n",
       "      <td>less than 100,000</td>\n",
       "      <td>NaN</td>\n",
       "      <td>NaN</td>\n",
       "      <td>...</td>\n",
       "      <td>NaN</td>\n",
       "      <td>NaN</td>\n",
       "      <td>NaN</td>\n",
       "      <td>NaN</td>\n",
       "      <td>NaN</td>\n",
       "      <td>NaN</td>\n",
       "      <td>NaN</td>\n",
       "      <td>NaN</td>\n",
       "      <td>NaN</td>\n",
       "      <td>15000.000000</td>\n",
       "    </tr>\n",
       "  </tbody>\n",
       "</table>\n",
       "<p>11 rows × 137 columns</p>\n",
       "</div>"
      ],
      "text/plain": [
       "        Age  AttendedBootcamp  BootcampFinish  BootcampLoanYesNo  \\\n",
       "718    26.0               1.0             0.0                0.0   \n",
       "1222   32.0               1.0             0.0                0.0   \n",
       "3184   34.0               1.0             1.0                0.0   \n",
       "3930   31.0               0.0             NaN                NaN   \n",
       "6805   46.0               1.0             1.0                1.0   \n",
       "7198   32.0               0.0             NaN                NaN   \n",
       "7505   26.0               1.0             0.0                1.0   \n",
       "9778   33.0               1.0             0.0                1.0   \n",
       "16650  29.0               0.0             NaN                NaN   \n",
       "16997  27.0               0.0             NaN                NaN   \n",
       "17231  50.0               0.0             NaN                NaN   \n",
       "\n",
       "                                 BootcampName  BootcampRecommend  \\\n",
       "718    The Coding Boot Camp at UCLA Extension                1.0   \n",
       "1222                            The Iron Yard                1.0   \n",
       "3184                           We Can Code IT                1.0   \n",
       "3930                                      NaN                NaN   \n",
       "6805                                 Sabio.la                0.0   \n",
       "7198                                      NaN                NaN   \n",
       "7505                                   Codeup                0.0   \n",
       "9778                             Grand Circus                1.0   \n",
       "16650                                     NaN                NaN   \n",
       "16997                                     NaN                NaN   \n",
       "17231                                     NaN                NaN   \n",
       "\n",
       "       ChildrenNumber                 CityPopulation  CodeEventConferences  \\\n",
       "718               NaN            more than 1 million                   1.0   \n",
       "1222              NaN  between 100,000 and 1 million                   NaN   \n",
       "3184              NaN            more than 1 million                   NaN   \n",
       "3930              NaN  between 100,000 and 1 million                   NaN   \n",
       "6805              NaN  between 100,000 and 1 million                   NaN   \n",
       "7198              NaN            more than 1 million                   1.0   \n",
       "7505              NaN            more than 1 million                   NaN   \n",
       "9778              NaN  between 100,000 and 1 million                   NaN   \n",
       "16650             2.0            more than 1 million                   NaN   \n",
       "16997             1.0            more than 1 million                   NaN   \n",
       "17231             2.0              less than 100,000                   NaN   \n",
       "\n",
       "       CodeEventDjangoGirls      ...       YouTubeFunFunFunction  \\\n",
       "718                     NaN      ...                         NaN   \n",
       "1222                    NaN      ...                         NaN   \n",
       "3184                    NaN      ...                         NaN   \n",
       "3930                    NaN      ...                         1.0   \n",
       "6805                    NaN      ...                         NaN   \n",
       "7198                    NaN      ...                         NaN   \n",
       "7505                    NaN      ...                         NaN   \n",
       "9778                    NaN      ...                         NaN   \n",
       "16650                   NaN      ...                         NaN   \n",
       "16997                   NaN      ...                         NaN   \n",
       "17231                   NaN      ...                         NaN   \n",
       "\n",
       "       YouTubeGoogleDev  YouTubeLearnCode  YouTubeLevelUpTuts  YouTubeMIT  \\\n",
       "718                 NaN               NaN                 NaN         NaN   \n",
       "1222                NaN               1.0                 NaN         NaN   \n",
       "3184                NaN               NaN                 NaN         NaN   \n",
       "3930                1.0               1.0                 1.0         1.0   \n",
       "6805                NaN               NaN                 NaN         NaN   \n",
       "7198                1.0               1.0                 1.0         NaN   \n",
       "7505                NaN               NaN                 NaN         1.0   \n",
       "9778                NaN               NaN                 NaN         NaN   \n",
       "16650               NaN               NaN                 NaN         NaN   \n",
       "16997               NaN               NaN                 NaN         NaN   \n",
       "17231               NaN               NaN                 NaN         NaN   \n",
       "\n",
       "       YouTubeMozillaHacks                YouTubeOther YouTubeSimplilearn  \\\n",
       "718                    NaN                         NaN                NaN   \n",
       "1222                   NaN                         NaN                NaN   \n",
       "3184                   NaN                         NaN                NaN   \n",
       "3930                   NaN  various conf presentations                NaN   \n",
       "6805                   NaN                         NaN                NaN   \n",
       "7198                   NaN                         NaN                NaN   \n",
       "7505                   NaN                         NaN                NaN   \n",
       "9778                   NaN                         NaN                NaN   \n",
       "16650                  NaN                         NaN                NaN   \n",
       "16997                  NaN                         NaN                NaN   \n",
       "17231                  NaN                         NaN                NaN   \n",
       "\n",
       "       YouTubeTheNewBoston  MonthlySpent  \n",
       "718                    NaN   8000.000000  \n",
       "1222                   NaN   6500.000000  \n",
       "3184                   NaN   9000.000000  \n",
       "3930                   NaN  10833.333333  \n",
       "6805                   NaN  15000.000000  \n",
       "7198                   NaN  14000.000000  \n",
       "7505                   NaN   6666.666667  \n",
       "9778                   NaN   8000.000000  \n",
       "16650                  1.0  16666.666667  \n",
       "16997                  NaN  12500.000000  \n",
       "17231                  NaN  15000.000000  \n",
       "\n",
       "[11 rows x 137 columns]"
      ]
     },
     "execution_count": 69,
     "metadata": {},
     "output_type": "execute_result"
    }
   ],
   "source": [
    "# Examine the extreme outliers for the US\n",
    "us_outliers = four_countries[\n",
    "    (four_countries['CountryLive'] == 'United States of America') & \n",
    "    (four_countries['MonthlySpent'] >= 6000)]\n",
    "\n",
    "us_outliers\n"
   ]
  },
  {
   "cell_type": "markdown",
   "metadata": {},
   "source": [
    "Out of these 11 extreme outliers, six people attended bootcamps, which justify the large sums of money spent on learning. For the other five, it's hard to figure out from the data where they could have spent that much money on learning. Consequently, we'll remove those rows where participants reported thay they spend \\$6000 each month, but they have never attended a bootcamp.\n",
    "\n",
    "Also, the data shows that eight respondents had been programming for no more than three months when they completed the survey. They most likely paid a large sum of money for a bootcamp that was going to last for several months, so the amount of money spent per month is unrealistic and should be significantly lower (because they probably didn't spend anything for the next couple of months after the survey). As a consequence, we'll remove every these eight outliers.\n",
    "\n",
    "In the next code block, we'll remove respondents that:\n",
    "\n",
    "Didn't attend bootcamps.\n",
    "Had been programming for three months or less when at the time they completed the survey"
   ]
  },
  {
   "cell_type": "code",
   "execution_count": 74,
   "metadata": {
    "collapsed": true
   },
   "outputs": [],
   "source": [
    "# Remove the respondents who didn't attendent a bootcamp\n",
    "\n",
    "no_bootcamp=four_countries[(four_countries[\"CountryLive\"]==\"United States of America\") & (four_countries[\"MonthlySpent\"]>=6000) & (four_countries[\"AttendedBootcamp\"]==0)]"
   ]
  },
  {
   "cell_type": "code",
   "execution_count": 76,
   "metadata": {
    "collapsed": false
   },
   "outputs": [],
   "source": [
    "four_countries = four_countries.drop(no_bootcamp.index)\n",
    "\n",
    "\n",
    "# Remove the respondents that had been programming for less than 3 months\n",
    "less_than_3_months = four_countries[\n",
    "    (four_countries['CountryLive'] == 'United States of America') & \n",
    "    (four_countries['MonthlySpent'] >= 6000) &\n",
    "    (four_countries['MonthsProgramming'] <= 3)\n",
    "]\n",
    "\n",
    "four_countries = four_countries.drop(less_than_3_months.index)\n"
   ]
  },
  {
   "cell_type": "markdown",
   "metadata": {},
   "source": [
    "Looking again at the last box plot above, we can also see an extreme outlier for Canada — a person who spends roughly \\$5000 per month. Let's examine this person in more depth.\n",
    "\n"
   ]
  },
  {
   "cell_type": "code",
   "execution_count": 79,
   "metadata": {
    "collapsed": false
   },
   "outputs": [
    {
     "data": {
      "text/html": [
       "<div>\n",
       "<style scoped>\n",
       "    .dataframe tbody tr th:only-of-type {\n",
       "        vertical-align: middle;\n",
       "    }\n",
       "\n",
       "    .dataframe tbody tr th {\n",
       "        vertical-align: top;\n",
       "    }\n",
       "\n",
       "    .dataframe thead th {\n",
       "        text-align: right;\n",
       "    }\n",
       "</style>\n",
       "<table border=\"1\" class=\"dataframe\">\n",
       "  <thead>\n",
       "    <tr style=\"text-align: right;\">\n",
       "      <th></th>\n",
       "      <th>Age</th>\n",
       "      <th>AttendedBootcamp</th>\n",
       "      <th>BootcampFinish</th>\n",
       "      <th>BootcampLoanYesNo</th>\n",
       "      <th>BootcampName</th>\n",
       "      <th>BootcampRecommend</th>\n",
       "      <th>ChildrenNumber</th>\n",
       "      <th>CityPopulation</th>\n",
       "      <th>CodeEventConferences</th>\n",
       "      <th>CodeEventDjangoGirls</th>\n",
       "      <th>...</th>\n",
       "      <th>YouTubeFunFunFunction</th>\n",
       "      <th>YouTubeGoogleDev</th>\n",
       "      <th>YouTubeLearnCode</th>\n",
       "      <th>YouTubeLevelUpTuts</th>\n",
       "      <th>YouTubeMIT</th>\n",
       "      <th>YouTubeMozillaHacks</th>\n",
       "      <th>YouTubeOther</th>\n",
       "      <th>YouTubeSimplilearn</th>\n",
       "      <th>YouTubeTheNewBoston</th>\n",
       "      <th>MonthlySpent</th>\n",
       "    </tr>\n",
       "  </thead>\n",
       "  <tbody>\n",
       "    <tr>\n",
       "      <th>13659</th>\n",
       "      <td>24.0</td>\n",
       "      <td>1.0</td>\n",
       "      <td>0.0</td>\n",
       "      <td>0.0</td>\n",
       "      <td>Bloc.io</td>\n",
       "      <td>1.0</td>\n",
       "      <td>NaN</td>\n",
       "      <td>more than 1 million</td>\n",
       "      <td>1.0</td>\n",
       "      <td>NaN</td>\n",
       "      <td>...</td>\n",
       "      <td>NaN</td>\n",
       "      <td>NaN</td>\n",
       "      <td>NaN</td>\n",
       "      <td>NaN</td>\n",
       "      <td>1.0</td>\n",
       "      <td>NaN</td>\n",
       "      <td>NaN</td>\n",
       "      <td>NaN</td>\n",
       "      <td>NaN</td>\n",
       "      <td>5000.0</td>\n",
       "    </tr>\n",
       "  </tbody>\n",
       "</table>\n",
       "<p>1 rows × 137 columns</p>\n",
       "</div>"
      ],
      "text/plain": [
       "        Age  AttendedBootcamp  BootcampFinish  BootcampLoanYesNo BootcampName  \\\n",
       "13659  24.0               1.0             0.0                0.0      Bloc.io   \n",
       "\n",
       "       BootcampRecommend  ChildrenNumber       CityPopulation  \\\n",
       "13659                1.0             NaN  more than 1 million   \n",
       "\n",
       "       CodeEventConferences  CodeEventDjangoGirls      ...       \\\n",
       "13659                   1.0                   NaN      ...        \n",
       "\n",
       "       YouTubeFunFunFunction  YouTubeGoogleDev  YouTubeLearnCode  \\\n",
       "13659                    NaN               NaN               NaN   \n",
       "\n",
       "       YouTubeLevelUpTuts  YouTubeMIT  YouTubeMozillaHacks  YouTubeOther  \\\n",
       "13659                 NaN         1.0                  NaN           NaN   \n",
       "\n",
       "      YouTubeSimplilearn  YouTubeTheNewBoston  MonthlySpent  \n",
       "13659                NaN                  NaN        5000.0  \n",
       "\n",
       "[1 rows x 137 columns]"
      ]
     },
     "execution_count": 79,
     "metadata": {},
     "output_type": "execute_result"
    }
   ],
   "source": [
    "canada_outliers = four_countries[\n",
    "    (four_countries['CountryLive'] == 'Canada') & \n",
    "    (four_countries['MonthlySpent'] > 4500)]\n",
    "\n",
    "canada_outliers"
   ]
  },
  {
   "cell_type": "markdown",
   "metadata": {},
   "source": [
    "Here, the situation is similar to some of the US respondents — this participant had been programming for no more than two months when he completed the survey. He seems to have paid a large sum of money in the beginning to enroll in a bootcamp, and then he probably didn't spend anything for the next couple of months after the survey. We'll take the same approach here as for the US and remove this outlier.\n",
    "\n"
   ]
  },
  {
   "cell_type": "code",
   "execution_count": 80,
   "metadata": {
    "collapsed": true
   },
   "outputs": [],
   "source": [
    "# Remove the extreme outliers for Canada\n",
    "four_countries = four_countries.drop(canada_outliers.index)\n"
   ]
  },
  {
   "cell_type": "code",
   "execution_count": 81,
   "metadata": {
    "collapsed": false
   },
   "outputs": [
    {
     "data": {
      "text/plain": [
       "CountryLive\n",
       "Canada                       93.065400\n",
       "India                        65.758763\n",
       "United Kingdom               45.534443\n",
       "United States of America    142.654608\n",
       "Name: MonthlySpent, dtype: float64"
      ]
     },
     "execution_count": 81,
     "metadata": {},
     "output_type": "execute_result"
    }
   ],
   "source": [
    "# Recompute mean sum of money spent by students each month\n",
    "four_countries.groupby('CountryLive').mean()['MonthlySpent']"
   ]
  },
  {
   "cell_type": "code",
   "execution_count": 83,
   "metadata": {
    "collapsed": false
   },
   "outputs": [
    {
     "name": "stderr",
     "output_type": "stream",
     "text": [
      "/dataquest/system/env/python3/lib/python3.4/site-packages/seaborn/categorical.py:454: FutureWarning: remove_na is deprecated and is a private function. Do not use.\n",
      "  box_data = remove_na(group_data)\n"
     ]
    },
    {
     "data": {
      "image/png": "[encoded data removed]",
      "text/plain": [
       "<matplotlib.figure.Figure at 0x7f467adffeb8>"
      ]
     },
     "metadata": {},
     "output_type": "display_data"
    }
   ],
   "source": [
    "# Visualize the distributions again\n",
    "sns.boxplot(y = 'MonthlySpent', x = 'CountryLive',\n",
    "            data = four_countries)\n",
    "plt.title('Money Spent Per Month Per Country\\n(Distributions)',\n",
    "          fontsize = 16)\n",
    "plt.ylabel('Money per month (US dollars)')\n",
    "plt.xlabel('Country')\n",
    "plt.xticks(range(4), ['US', 'UK', 'India', 'Canada']) # avoids tick labels overlap\n",
    "plt.show()\n"
   ]
  },
  {
   "cell_type": "markdown",
   "metadata": {},
   "source": [
    "Choosing the Two Best Markets¶\n",
    "Obviously, one country we should advertise in is the US. Lots of new coders live there and they are willing to pay a good amount of money each month (roughly \\$143).\n",
    "\n",
    "We sell subscriptions at a price of \\$59 per month, and Canada seems to be the best second choice because people there are willing to pay roughly \\$93 per month, compared to India (\\$66) and the United Kingdom (\\$45).\n",
    "\n",
    "The data suggests strongly that we shouldn't advertise in the UK, but let's take a second look at India before deciding to choose Canada as our second best choice:\n",
    "\n",
    "$59 doesn't seem like an expensive sum for people in India since they spend on average \\$66 each month.\n",
    "We have almost twice as more potential customers in India than we have in Canada:"
   ]
  },
  {
   "cell_type": "code",
   "execution_count": 84,
   "metadata": {
    "collapsed": false
   },
   "outputs": [
    {
     "data": {
      "text/plain": [
       "United States of America    74.967908\n",
       "India                       11.732991\n",
       "United Kingdom               7.163030\n",
       "Canada                       6.136072\n",
       "Name: CountryLive, dtype: float64"
      ]
     },
     "execution_count": 84,
     "metadata": {},
     "output_type": "execute_result"
    }
   ],
   "source": [
    "# Frequency table for the 'CountryLive' column\n",
    "four_countries['CountryLive'].value_counts(normalize = True) * 100\n"
   ]
  },
  {
   "cell_type": "markdown",
   "metadata": {},
   "source": [
    "So it's not crystal clear what to choose between Canada and India. Although it seems more tempting to choose Canada, there are good chances that India might actually be a better choice because of the large number of potential customers.\n",
    "\n",
    "At this point, it seems that we have several options:\n",
    "\n",
    "Advertise in the US, India, and Canada by splitting the advertisement budget in various combinations:\n",
    "\n",
    "60% for the US, 25% for India, 15% for Canada.\n",
    "50% for the US, 30% for India, 20% for Canada; etc.\n",
    "Advertise only in the US and India, or the US and Canada. Again, it makes sense to split the advertisement budget unequally. For instance:\n",
    "\n",
    "70% for the US, and 30% for India.\n",
    "65% for the US, and 35% for Canada; etc.\n",
    "Advertise only in the US.\n",
    "\n",
    "At this point, it's probably best to send our analysis to the marketing team and let them use their domain knowledge to decide. They might want to do some extra surveys in India and Canada and then get back to us for analyzing the new survey data.\n",
    "\n"
   ]
  },
  {
   "cell_type": "markdown",
   "metadata": {},
   "source": [
    "# Conclusion¶\n",
    "In this project, we analyzed survey data from new coders to find the best two markets to advertise in. The only solid conclusion we reached is that the US would be a good market to advertise in.\n",
    "\n",
    "For the second best market, it wasn't clear-cut what to choose between India and Canada. We decided to send the results to the marketing team so they can use their domain knowledge to take the best decision."
   ]
  },
  {
   "cell_type": "code",
   "execution_count": null,
   "metadata": {
    "collapsed": true
   },
   "outputs": [],
   "source": []
  }
 ],
 "metadata": {
  "kernelspec": {
   "display_name": "Python 3",
   "language": "python",
   "name": "python3"
  },
  "language_info": {
   "codemirror_mode": {
    "name": "ipython",
    "version": 3
   },
   "file_extension": ".py",
   "mimetype": "text/x-python",
   "name": "python",
   "nbconvert_exporter": "python",
   "pygments_lexer": "ipython3",
   "version": "3.4.3"
  }
 },
 "nbformat": 4,
 "nbformat_minor": 2
}
